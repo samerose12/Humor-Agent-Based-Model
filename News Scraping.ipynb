{
 "cells": [
  {
   "cell_type": "code",
   "execution_count": 1,
   "id": "4e3a35e9-9d9c-4ac4-9b7c-99220afa4977",
   "metadata": {},
   "outputs": [],
   "source": [
    "import requests\n",
    "from bs4 import BeautifulSoup\n",
    "import numpy as np\n",
    "import pandas as pd\n",
    "from nltk.sentiment.vader import SentimentIntensityAnalyzer\n",
    "from contextlib import closing\n",
    "from selenium.webdriver import Firefox # pip install selenium\n",
    "from selenium.webdriver.support.ui import WebDriverWait\n",
    "from selenium.webdriver.common.by import By\n",
    "from selenium.webdriver.support import expected_conditions as EC\n",
    "from time import sleep\n",
    "\n",
    "import pysentiment2 as ps"
   ]
  },
  {
   "cell_type": "code",
   "execution_count": null,
   "id": "93ff05bd-7fc4-4057-a849-e01b115d2d9d",
   "metadata": {},
   "outputs": [],
   "source": []
  },
  {
   "cell_type": "markdown",
   "id": "315d0b73-ac1e-4787-bde8-80edda9b68d0",
   "metadata": {},
   "source": [
    "# New York Times"
   ]
  },
  {
   "cell_type": "code",
   "execution_count": 2,
   "id": "c0252564-1749-43d7-a5c5-02d1a597b498",
   "metadata": {},
   "outputs": [],
   "source": [
    "\n",
    "url = 'https://www.nytimes.com/search?dropmab=true&endDate=20200423&query=Trump&sort=oldest&startDate=20200318&types=article'\n",
    "url = 'https://www.nytimes.com/search?dropmab=false&endDate=20200520&query=Trump&sort=oldest&startDate=20200423&types=article'\n",
    "\n",
    "#url = 'https://www.dailymail.co.uk'"
   ]
  },
  {
   "cell_type": "code",
   "execution_count": 3,
   "id": "3af5bbcf-540d-41d4-8610-95a57c018eda",
   "metadata": {},
   "outputs": [],
   "source": [
    "# Makes a HTTP request to the website\n",
    "r1 = requests.get(url)\n",
    "r1.status_code\n",
    "\n",
    "# Returns the unicode content of the request response\n",
    "coverpage = r1.content\n",
    "\n",
    "# Soup creation\n",
    "soup1 = BeautifulSoup(coverpage, 'html5lib')\n",
    "\n",
    "# News identification\n",
    "# coverpage_news = soup1.find_all('h2', class_='linkro-darkred')\n",
    "# len(coverpage_news)"
   ]
  },
  {
   "cell_type": "code",
   "execution_count": 4,
   "id": "fc373521-e0f3-4992-8220-1382238941ab",
   "metadata": {},
   "outputs": [
    {
     "ename": "NameError",
     "evalue": "name 'coverpage_news' is not defined",
     "output_type": "error",
     "traceback": [
      "\u001b[1;31m---------------------------------------------------------------------------\u001b[0m",
      "\u001b[1;31mNameError\u001b[0m                                 Traceback (most recent call last)",
      "\u001b[1;32m<ipython-input-4-3c72cbf28d0d>\u001b[0m in \u001b[0;36m<module>\u001b[1;34m\u001b[0m\n\u001b[0;32m      8\u001b[0m \u001b[1;33m\u001b[0m\u001b[0m\n\u001b[0;32m      9\u001b[0m     \u001b[1;31m# only news articles (there are also albums and other things)\u001b[0m\u001b[1;33m\u001b[0m\u001b[1;33m\u001b[0m\u001b[1;33m\u001b[0m\u001b[0m\n\u001b[1;32m---> 10\u001b[1;33m     \u001b[1;32mif\u001b[0m \u001b[1;34m\"inenglish\"\u001b[0m \u001b[1;32mnot\u001b[0m \u001b[1;32min\u001b[0m \u001b[0mcoverpage_news\u001b[0m\u001b[1;33m[\u001b[0m\u001b[0mn\u001b[0m\u001b[1;33m]\u001b[0m\u001b[1;33m.\u001b[0m\u001b[0mfind\u001b[0m\u001b[1;33m(\u001b[0m\u001b[1;34m'a'\u001b[0m\u001b[1;33m)\u001b[0m\u001b[1;33m[\u001b[0m\u001b[1;34m'href'\u001b[0m\u001b[1;33m]\u001b[0m\u001b[1;33m:\u001b[0m\u001b[1;33m\u001b[0m\u001b[1;33m\u001b[0m\u001b[0m\n\u001b[0m\u001b[0;32m     11\u001b[0m         \u001b[1;32mcontinue\u001b[0m\u001b[1;33m\u001b[0m\u001b[1;33m\u001b[0m\u001b[0m\n\u001b[0;32m     12\u001b[0m \u001b[1;33m\u001b[0m\u001b[0m\n",
      "\u001b[1;31mNameError\u001b[0m: name 'coverpage_news' is not defined"
     ]
    }
   ],
   "source": [
    "# Scraping the first 5 articles\n",
    "number_of_articles = 5# Empty lists for content, links and titles\n",
    "news_contents = []\n",
    "list_links = []\n",
    "list_titles = []\n",
    "\n",
    "for n in np.arange(0, number_of_articles):\n",
    "    \n",
    "    # only news articles (there are also albums and other things)\n",
    "    if \"inenglish\" not in coverpage_news[n].find('a')['href']:  \n",
    "        continue\n",
    "    \n",
    "    # Getting the link of the article\n",
    "    link = coverpage_news[n].find('a')['href']\n",
    "    list_links.append(link)\n",
    "    \n",
    "    # Getting the title\n",
    "    title = coverpage_news[n].find('a').get_text()\n",
    "    list_titles.append(title)\n",
    "    \n",
    "    # Reading the content (it is divided in paragraphs)\n",
    "    article = requests.get(link)\n",
    "    article_content = article.content\n",
    "    soup_article = BeautifulSoup(article_content, 'html5lib')\n",
    "    body = soup_article.find_all('div', class_='articulo-cuerpo')\n",
    "    x = body[0].find_all('p')\n",
    "    \n",
    "    # Unifying the paragraphs\n",
    "    list_paragraphs = []\n",
    "    for p in np.arange(0, len(x)):\n",
    "        paragraph = x[p].get_text()\n",
    "        list_paragraphs.append(paragraph)\n",
    "        final_article = \" \".join(list_paragraphs)\n",
    "        \n",
    "    news_contents.append(final_article)"
   ]
  },
  {
   "cell_type": "code",
   "execution_count": 5,
   "id": "f101b77c-b052-4e10-b67b-8c9b506d97c8",
   "metadata": {},
   "outputs": [
    {
     "data": {
      "text/plain": [
       "{'data-testid': 'search-show-more-button', 'type': 'button'}"
      ]
     },
     "execution_count": 5,
     "metadata": {},
     "output_type": "execute_result"
    }
   ],
   "source": [
    "soup1.find('button', text='Show More').attrs"
   ]
  },
  {
   "cell_type": "code",
   "execution_count": 6,
   "id": "4cce01a8-18e4-4ead-8237-979210d4fc11",
   "metadata": {},
   "outputs": [],
   "source": [
    "all_the_text = []"
   ]
  },
  {
   "cell_type": "code",
   "execution_count": 7,
   "id": "9f34c62c-7801-4159-9369-ad590f2f94bd",
   "metadata": {},
   "outputs": [],
   "source": [
    "all_links = soup1.find_all('a')\n",
    "articles = []\n",
    "for a in all_links:\n",
    "    if a.find('h4'):\n",
    "        articles.append(a)"
   ]
  },
  {
   "cell_type": "code",
   "execution_count": 125,
   "id": "c3c0c911-80fb-4d79-91df-7794a19ad115",
   "metadata": {},
   "outputs": [],
   "source": [
    "link = 'http://www.nytimes.com'+articles[0]['href']"
   ]
  },
  {
   "cell_type": "code",
   "execution_count": 126,
   "id": "c1a8597d-8d39-4fc7-b765-b7282af0a1be",
   "metadata": {},
   "outputs": [],
   "source": [
    "article = requests.get(link)\n",
    "article_content = article.content\n",
    "soup_article = BeautifulSoup(article_content, 'html5lib')\n",
    "body = soup_article.find_all('div', class_='articulo-cuerpo')"
   ]
  },
  {
   "cell_type": "code",
   "execution_count": 127,
   "id": "c9285bf7-331a-4585-8ba2-fe0bd5f0bcdd",
   "metadata": {},
   "outputs": [],
   "source": [
    "paragraphs = soup_article.find_all('p')[4:-2]"
   ]
  },
  {
   "cell_type": "code",
   "execution_count": 128,
   "id": "1a558034-5c89-4c01-8ab1-e5458b2bab3d",
   "metadata": {},
   "outputs": [],
   "source": [
    "body = ''\n",
    "for i in range(len(paragraphs)):\n",
    "    body += ' ' + paragraphs[i].get_text()"
   ]
  },
  {
   "cell_type": "code",
   "execution_count": 178,
   "id": "f000d4df-5d9c-46a2-95e4-5b07abd32f3b",
   "metadata": {},
   "outputs": [],
   "source": [
    "analyzer = SentimentIntensityAnalyzer()"
   ]
  },
  {
   "cell_type": "code",
   "execution_count": 134,
   "id": "1be21cea-5a36-4197-9889-629f500f2130",
   "metadata": {},
   "outputs": [
    {
     "data": {
      "text/plain": [
       "{'neg': 0.077, 'neu': 0.858, 'pos': 0.065, 'compound': -0.9174}"
      ]
     },
     "execution_count": 134,
     "metadata": {},
     "output_type": "execute_result"
    }
   ],
   "source": [
    "analyzer.polarity_scores(body)"
   ]
  },
  {
   "cell_type": "code",
   "execution_count": 9,
   "id": "d01b8578-d5ab-496d-a605-34e025251e14",
   "metadata": {
    "scrolled": true,
    "tags": []
   },
   "outputs": [
    {
     "name": "stdout",
     "output_type": "stream",
     "text": [
      "Pressed the Show More button a bunch\n",
      "Got all the Articles\n",
      "Scraping...\n",
      "[==============>-----] "
     ]
    },
    {
     "ename": "KeyboardInterrupt",
     "evalue": "",
     "output_type": "error",
     "traceback": [
      "\u001b[1;31m---------------------------------------------------------------------------\u001b[0m",
      "\u001b[1;31mKeyboardInterrupt\u001b[0m                         Traceback (most recent call last)",
      "\u001b[1;32m<ipython-input-9-80338313a974>\u001b[0m in \u001b[0;36m<module>\u001b[1;34m\u001b[0m\n\u001b[0;32m     40\u001b[0m     \u001b[0marticle\u001b[0m \u001b[1;33m=\u001b[0m \u001b[0mrequests\u001b[0m\u001b[1;33m.\u001b[0m\u001b[0mget\u001b[0m\u001b[1;33m(\u001b[0m\u001b[0mlink\u001b[0m\u001b[1;33m)\u001b[0m\u001b[1;33m\u001b[0m\u001b[1;33m\u001b[0m\u001b[0m\n\u001b[0;32m     41\u001b[0m     \u001b[0marticle_content\u001b[0m \u001b[1;33m=\u001b[0m \u001b[0marticle\u001b[0m\u001b[1;33m.\u001b[0m\u001b[0mcontent\u001b[0m\u001b[1;33m\u001b[0m\u001b[1;33m\u001b[0m\u001b[0m\n\u001b[1;32m---> 42\u001b[1;33m     \u001b[0msoup_article\u001b[0m \u001b[1;33m=\u001b[0m \u001b[0mBeautifulSoup\u001b[0m\u001b[1;33m(\u001b[0m\u001b[0marticle_content\u001b[0m\u001b[1;33m,\u001b[0m \u001b[1;34m'html5lib'\u001b[0m\u001b[1;33m)\u001b[0m\u001b[1;33m\u001b[0m\u001b[1;33m\u001b[0m\u001b[0m\n\u001b[0m\u001b[0;32m     43\u001b[0m     \u001b[0mparagraphs\u001b[0m \u001b[1;33m=\u001b[0m \u001b[0msoup_article\u001b[0m\u001b[1;33m.\u001b[0m\u001b[0mfind_all\u001b[0m\u001b[1;33m(\u001b[0m\u001b[1;34m'p'\u001b[0m\u001b[1;33m)\u001b[0m\u001b[1;33m[\u001b[0m\u001b[1;36m4\u001b[0m\u001b[1;33m:\u001b[0m\u001b[1;33m-\u001b[0m\u001b[1;36m2\u001b[0m\u001b[1;33m]\u001b[0m\u001b[1;33m\u001b[0m\u001b[1;33m\u001b[0m\u001b[0m\n\u001b[0;32m     44\u001b[0m     \u001b[0mbody\u001b[0m \u001b[1;33m=\u001b[0m \u001b[1;34m''\u001b[0m\u001b[1;33m\u001b[0m\u001b[1;33m\u001b[0m\u001b[0m\n",
      "\u001b[1;32m~\\anaconda3\\lib\\site-packages\\bs4\\__init__.py\u001b[0m in \u001b[0;36m__init__\u001b[1;34m(self, markup, features, builder, parse_only, from_encoding, exclude_encodings, element_classes, **kwargs)\u001b[0m\n\u001b[0;32m    346\u001b[0m             \u001b[0mself\u001b[0m\u001b[1;33m.\u001b[0m\u001b[0mreset\u001b[0m\u001b[1;33m(\u001b[0m\u001b[1;33m)\u001b[0m\u001b[1;33m\u001b[0m\u001b[1;33m\u001b[0m\u001b[0m\n\u001b[0;32m    347\u001b[0m             \u001b[1;32mtry\u001b[0m\u001b[1;33m:\u001b[0m\u001b[1;33m\u001b[0m\u001b[1;33m\u001b[0m\u001b[0m\n\u001b[1;32m--> 348\u001b[1;33m                 \u001b[0mself\u001b[0m\u001b[1;33m.\u001b[0m\u001b[0m_feed\u001b[0m\u001b[1;33m(\u001b[0m\u001b[1;33m)\u001b[0m\u001b[1;33m\u001b[0m\u001b[1;33m\u001b[0m\u001b[0m\n\u001b[0m\u001b[0;32m    349\u001b[0m                 \u001b[0msuccess\u001b[0m \u001b[1;33m=\u001b[0m \u001b[1;32mTrue\u001b[0m\u001b[1;33m\u001b[0m\u001b[1;33m\u001b[0m\u001b[0m\n\u001b[0;32m    350\u001b[0m                 \u001b[1;32mbreak\u001b[0m\u001b[1;33m\u001b[0m\u001b[1;33m\u001b[0m\u001b[0m\n",
      "\u001b[1;32m~\\anaconda3\\lib\\site-packages\\bs4\\__init__.py\u001b[0m in \u001b[0;36m_feed\u001b[1;34m(self)\u001b[0m\n\u001b[0;32m    432\u001b[0m         \u001b[0mself\u001b[0m\u001b[1;33m.\u001b[0m\u001b[0mbuilder\u001b[0m\u001b[1;33m.\u001b[0m\u001b[0mreset\u001b[0m\u001b[1;33m(\u001b[0m\u001b[1;33m)\u001b[0m\u001b[1;33m\u001b[0m\u001b[1;33m\u001b[0m\u001b[0m\n\u001b[0;32m    433\u001b[0m \u001b[1;33m\u001b[0m\u001b[0m\n\u001b[1;32m--> 434\u001b[1;33m         \u001b[0mself\u001b[0m\u001b[1;33m.\u001b[0m\u001b[0mbuilder\u001b[0m\u001b[1;33m.\u001b[0m\u001b[0mfeed\u001b[0m\u001b[1;33m(\u001b[0m\u001b[0mself\u001b[0m\u001b[1;33m.\u001b[0m\u001b[0mmarkup\u001b[0m\u001b[1;33m)\u001b[0m\u001b[1;33m\u001b[0m\u001b[1;33m\u001b[0m\u001b[0m\n\u001b[0m\u001b[0;32m    435\u001b[0m         \u001b[1;31m# Close out any unfinished strings and close all the open tags.\u001b[0m\u001b[1;33m\u001b[0m\u001b[1;33m\u001b[0m\u001b[1;33m\u001b[0m\u001b[0m\n\u001b[0;32m    436\u001b[0m         \u001b[0mself\u001b[0m\u001b[1;33m.\u001b[0m\u001b[0mendData\u001b[0m\u001b[1;33m(\u001b[0m\u001b[1;33m)\u001b[0m\u001b[1;33m\u001b[0m\u001b[1;33m\u001b[0m\u001b[0m\n",
      "\u001b[1;32m~\\anaconda3\\lib\\site-packages\\bs4\\builder\\_html5lib.py\u001b[0m in \u001b[0;36mfeed\u001b[1;34m(self, markup)\u001b[0m\n\u001b[0;32m     85\u001b[0m             \u001b[1;32melse\u001b[0m\u001b[1;33m:\u001b[0m\u001b[1;33m\u001b[0m\u001b[1;33m\u001b[0m\u001b[0m\n\u001b[0;32m     86\u001b[0m                 \u001b[0mextra_kwargs\u001b[0m\u001b[1;33m[\u001b[0m\u001b[1;34m'encoding'\u001b[0m\u001b[1;33m]\u001b[0m \u001b[1;33m=\u001b[0m \u001b[0mself\u001b[0m\u001b[1;33m.\u001b[0m\u001b[0muser_specified_encoding\u001b[0m\u001b[1;33m\u001b[0m\u001b[1;33m\u001b[0m\u001b[0m\n\u001b[1;32m---> 87\u001b[1;33m         \u001b[0mdoc\u001b[0m \u001b[1;33m=\u001b[0m \u001b[0mparser\u001b[0m\u001b[1;33m.\u001b[0m\u001b[0mparse\u001b[0m\u001b[1;33m(\u001b[0m\u001b[0mmarkup\u001b[0m\u001b[1;33m,\u001b[0m \u001b[1;33m**\u001b[0m\u001b[0mextra_kwargs\u001b[0m\u001b[1;33m)\u001b[0m\u001b[1;33m\u001b[0m\u001b[1;33m\u001b[0m\u001b[0m\n\u001b[0m\u001b[0;32m     88\u001b[0m \u001b[1;33m\u001b[0m\u001b[0m\n\u001b[0;32m     89\u001b[0m         \u001b[1;31m# Set the character encoding detected by the tokenizer.\u001b[0m\u001b[1;33m\u001b[0m\u001b[1;33m\u001b[0m\u001b[1;33m\u001b[0m\u001b[0m\n",
      "\u001b[1;32m~\\anaconda3\\lib\\site-packages\\html5lib\\html5parser.py\u001b[0m in \u001b[0;36mparse\u001b[1;34m(self, stream, *args, **kwargs)\u001b[0m\n\u001b[0;32m    282\u001b[0m \u001b[1;33m\u001b[0m\u001b[0m\n\u001b[0;32m    283\u001b[0m         \"\"\"\n\u001b[1;32m--> 284\u001b[1;33m         \u001b[0mself\u001b[0m\u001b[1;33m.\u001b[0m\u001b[0m_parse\u001b[0m\u001b[1;33m(\u001b[0m\u001b[0mstream\u001b[0m\u001b[1;33m,\u001b[0m \u001b[1;32mFalse\u001b[0m\u001b[1;33m,\u001b[0m \u001b[1;32mNone\u001b[0m\u001b[1;33m,\u001b[0m \u001b[1;33m*\u001b[0m\u001b[0margs\u001b[0m\u001b[1;33m,\u001b[0m \u001b[1;33m**\u001b[0m\u001b[0mkwargs\u001b[0m\u001b[1;33m)\u001b[0m\u001b[1;33m\u001b[0m\u001b[1;33m\u001b[0m\u001b[0m\n\u001b[0m\u001b[0;32m    285\u001b[0m         \u001b[1;32mreturn\u001b[0m \u001b[0mself\u001b[0m\u001b[1;33m.\u001b[0m\u001b[0mtree\u001b[0m\u001b[1;33m.\u001b[0m\u001b[0mgetDocument\u001b[0m\u001b[1;33m(\u001b[0m\u001b[1;33m)\u001b[0m\u001b[1;33m\u001b[0m\u001b[1;33m\u001b[0m\u001b[0m\n\u001b[0;32m    286\u001b[0m \u001b[1;33m\u001b[0m\u001b[0m\n",
      "\u001b[1;32m~\\anaconda3\\lib\\site-packages\\html5lib\\html5parser.py\u001b[0m in \u001b[0;36m_parse\u001b[1;34m(self, stream, innerHTML, container, scripting, **kwargs)\u001b[0m\n\u001b[0;32m    127\u001b[0m         \u001b[0mself\u001b[0m\u001b[1;33m.\u001b[0m\u001b[0mcontainer\u001b[0m \u001b[1;33m=\u001b[0m \u001b[0mcontainer\u001b[0m\u001b[1;33m\u001b[0m\u001b[1;33m\u001b[0m\u001b[0m\n\u001b[0;32m    128\u001b[0m         \u001b[0mself\u001b[0m\u001b[1;33m.\u001b[0m\u001b[0mscripting\u001b[0m \u001b[1;33m=\u001b[0m \u001b[0mscripting\u001b[0m\u001b[1;33m\u001b[0m\u001b[1;33m\u001b[0m\u001b[0m\n\u001b[1;32m--> 129\u001b[1;33m         \u001b[0mself\u001b[0m\u001b[1;33m.\u001b[0m\u001b[0mtokenizer\u001b[0m \u001b[1;33m=\u001b[0m \u001b[0m_tokenizer\u001b[0m\u001b[1;33m.\u001b[0m\u001b[0mHTMLTokenizer\u001b[0m\u001b[1;33m(\u001b[0m\u001b[0mstream\u001b[0m\u001b[1;33m,\u001b[0m \u001b[0mparser\u001b[0m\u001b[1;33m=\u001b[0m\u001b[0mself\u001b[0m\u001b[1;33m,\u001b[0m \u001b[1;33m**\u001b[0m\u001b[0mkwargs\u001b[0m\u001b[1;33m)\u001b[0m\u001b[1;33m\u001b[0m\u001b[1;33m\u001b[0m\u001b[0m\n\u001b[0m\u001b[0;32m    130\u001b[0m         \u001b[0mself\u001b[0m\u001b[1;33m.\u001b[0m\u001b[0mreset\u001b[0m\u001b[1;33m(\u001b[0m\u001b[1;33m)\u001b[0m\u001b[1;33m\u001b[0m\u001b[1;33m\u001b[0m\u001b[0m\n\u001b[0;32m    131\u001b[0m \u001b[1;33m\u001b[0m\u001b[0m\n",
      "\u001b[1;32m~\\anaconda3\\lib\\site-packages\\html5lib\\_tokenizer.py\u001b[0m in \u001b[0;36m__init__\u001b[1;34m(self, stream, parser, **kwargs)\u001b[0m\n\u001b[0;32m     40\u001b[0m     \u001b[1;32mdef\u001b[0m \u001b[0m__init__\u001b[0m\u001b[1;33m(\u001b[0m\u001b[0mself\u001b[0m\u001b[1;33m,\u001b[0m \u001b[0mstream\u001b[0m\u001b[1;33m,\u001b[0m \u001b[0mparser\u001b[0m\u001b[1;33m=\u001b[0m\u001b[1;32mNone\u001b[0m\u001b[1;33m,\u001b[0m \u001b[1;33m**\u001b[0m\u001b[0mkwargs\u001b[0m\u001b[1;33m)\u001b[0m\u001b[1;33m:\u001b[0m\u001b[1;33m\u001b[0m\u001b[1;33m\u001b[0m\u001b[0m\n\u001b[0;32m     41\u001b[0m \u001b[1;33m\u001b[0m\u001b[0m\n\u001b[1;32m---> 42\u001b[1;33m         \u001b[0mself\u001b[0m\u001b[1;33m.\u001b[0m\u001b[0mstream\u001b[0m \u001b[1;33m=\u001b[0m \u001b[0mHTMLInputStream\u001b[0m\u001b[1;33m(\u001b[0m\u001b[0mstream\u001b[0m\u001b[1;33m,\u001b[0m \u001b[1;33m**\u001b[0m\u001b[0mkwargs\u001b[0m\u001b[1;33m)\u001b[0m\u001b[1;33m\u001b[0m\u001b[1;33m\u001b[0m\u001b[0m\n\u001b[0m\u001b[0;32m     43\u001b[0m         \u001b[0mself\u001b[0m\u001b[1;33m.\u001b[0m\u001b[0mparser\u001b[0m \u001b[1;33m=\u001b[0m \u001b[0mparser\u001b[0m\u001b[1;33m\u001b[0m\u001b[1;33m\u001b[0m\u001b[0m\n\u001b[0;32m     44\u001b[0m \u001b[1;33m\u001b[0m\u001b[0m\n",
      "\u001b[1;32m~\\anaconda3\\lib\\site-packages\\html5lib\\_inputstream.py\u001b[0m in \u001b[0;36mHTMLInputStream\u001b[1;34m(source, **kwargs)\u001b[0m\n\u001b[0;32m    143\u001b[0m         \u001b[1;32mreturn\u001b[0m \u001b[0mHTMLUnicodeInputStream\u001b[0m\u001b[1;33m(\u001b[0m\u001b[0msource\u001b[0m\u001b[1;33m,\u001b[0m \u001b[1;33m**\u001b[0m\u001b[0mkwargs\u001b[0m\u001b[1;33m)\u001b[0m\u001b[1;33m\u001b[0m\u001b[1;33m\u001b[0m\u001b[0m\n\u001b[0;32m    144\u001b[0m     \u001b[1;32melse\u001b[0m\u001b[1;33m:\u001b[0m\u001b[1;33m\u001b[0m\u001b[1;33m\u001b[0m\u001b[0m\n\u001b[1;32m--> 145\u001b[1;33m         \u001b[1;32mreturn\u001b[0m \u001b[0mHTMLBinaryInputStream\u001b[0m\u001b[1;33m(\u001b[0m\u001b[0msource\u001b[0m\u001b[1;33m,\u001b[0m \u001b[1;33m**\u001b[0m\u001b[0mkwargs\u001b[0m\u001b[1;33m)\u001b[0m\u001b[1;33m\u001b[0m\u001b[1;33m\u001b[0m\u001b[0m\n\u001b[0m\u001b[0;32m    146\u001b[0m \u001b[1;33m\u001b[0m\u001b[0m\n\u001b[0;32m    147\u001b[0m \u001b[1;33m\u001b[0m\u001b[0m\n",
      "\u001b[1;32m~\\anaconda3\\lib\\site-packages\\html5lib\\_inputstream.py\u001b[0m in \u001b[0;36m__init__\u001b[1;34m(self, source, override_encoding, transport_encoding, same_origin_parent_encoding, likely_encoding, default_encoding, useChardet)\u001b[0m\n\u001b[0;32m    420\u001b[0m \u001b[1;33m\u001b[0m\u001b[0m\n\u001b[0;32m    421\u001b[0m         \u001b[1;31m# Determine encoding\u001b[0m\u001b[1;33m\u001b[0m\u001b[1;33m\u001b[0m\u001b[1;33m\u001b[0m\u001b[0m\n\u001b[1;32m--> 422\u001b[1;33m         \u001b[0mself\u001b[0m\u001b[1;33m.\u001b[0m\u001b[0mcharEncoding\u001b[0m \u001b[1;33m=\u001b[0m \u001b[0mself\u001b[0m\u001b[1;33m.\u001b[0m\u001b[0mdetermineEncoding\u001b[0m\u001b[1;33m(\u001b[0m\u001b[0museChardet\u001b[0m\u001b[1;33m)\u001b[0m\u001b[1;33m\u001b[0m\u001b[1;33m\u001b[0m\u001b[0m\n\u001b[0m\u001b[0;32m    423\u001b[0m         \u001b[1;32massert\u001b[0m \u001b[0mself\u001b[0m\u001b[1;33m.\u001b[0m\u001b[0mcharEncoding\u001b[0m\u001b[1;33m[\u001b[0m\u001b[1;36m0\u001b[0m\u001b[1;33m]\u001b[0m \u001b[1;32mis\u001b[0m \u001b[1;32mnot\u001b[0m \u001b[1;32mNone\u001b[0m\u001b[1;33m\u001b[0m\u001b[1;33m\u001b[0m\u001b[0m\n\u001b[0;32m    424\u001b[0m \u001b[1;33m\u001b[0m\u001b[0m\n",
      "\u001b[1;32m~\\anaconda3\\lib\\site-packages\\html5lib\\_inputstream.py\u001b[0m in \u001b[0;36mdetermineEncoding\u001b[1;34m(self, chardet)\u001b[0m\n\u001b[0;32m    496\u001b[0m                         \u001b[1;32mbreak\u001b[0m\u001b[1;33m\u001b[0m\u001b[1;33m\u001b[0m\u001b[0m\n\u001b[0;32m    497\u001b[0m                     \u001b[0mbuffers\u001b[0m\u001b[1;33m.\u001b[0m\u001b[0mappend\u001b[0m\u001b[1;33m(\u001b[0m\u001b[0mbuffer\u001b[0m\u001b[1;33m)\u001b[0m\u001b[1;33m\u001b[0m\u001b[1;33m\u001b[0m\u001b[0m\n\u001b[1;32m--> 498\u001b[1;33m                     \u001b[0mdetector\u001b[0m\u001b[1;33m.\u001b[0m\u001b[0mfeed\u001b[0m\u001b[1;33m(\u001b[0m\u001b[0mbuffer\u001b[0m\u001b[1;33m)\u001b[0m\u001b[1;33m\u001b[0m\u001b[1;33m\u001b[0m\u001b[0m\n\u001b[0m\u001b[0;32m    499\u001b[0m                 \u001b[0mdetector\u001b[0m\u001b[1;33m.\u001b[0m\u001b[0mclose\u001b[0m\u001b[1;33m(\u001b[0m\u001b[1;33m)\u001b[0m\u001b[1;33m\u001b[0m\u001b[1;33m\u001b[0m\u001b[0m\n\u001b[0;32m    500\u001b[0m                 \u001b[0mencoding\u001b[0m \u001b[1;33m=\u001b[0m \u001b[0mlookupEncoding\u001b[0m\u001b[1;33m(\u001b[0m\u001b[0mdetector\u001b[0m\u001b[1;33m.\u001b[0m\u001b[0mresult\u001b[0m\u001b[1;33m[\u001b[0m\u001b[1;34m'encoding'\u001b[0m\u001b[1;33m]\u001b[0m\u001b[1;33m)\u001b[0m\u001b[1;33m\u001b[0m\u001b[1;33m\u001b[0m\u001b[0m\n",
      "\u001b[1;32m~\\anaconda3\\lib\\site-packages\\chardet\\universaldetector.py\u001b[0m in \u001b[0;36mfeed\u001b[1;34m(self, byte_str)\u001b[0m\n\u001b[0;32m    209\u001b[0m                 \u001b[0mself\u001b[0m\u001b[1;33m.\u001b[0m\u001b[0m_charset_probers\u001b[0m\u001b[1;33m.\u001b[0m\u001b[0mappend\u001b[0m\u001b[1;33m(\u001b[0m\u001b[0mLatin1Prober\u001b[0m\u001b[1;33m(\u001b[0m\u001b[1;33m)\u001b[0m\u001b[1;33m)\u001b[0m\u001b[1;33m\u001b[0m\u001b[1;33m\u001b[0m\u001b[0m\n\u001b[0;32m    210\u001b[0m             \u001b[1;32mfor\u001b[0m \u001b[0mprober\u001b[0m \u001b[1;32min\u001b[0m \u001b[0mself\u001b[0m\u001b[1;33m.\u001b[0m\u001b[0m_charset_probers\u001b[0m\u001b[1;33m:\u001b[0m\u001b[1;33m\u001b[0m\u001b[1;33m\u001b[0m\u001b[0m\n\u001b[1;32m--> 211\u001b[1;33m                 \u001b[1;32mif\u001b[0m \u001b[0mprober\u001b[0m\u001b[1;33m.\u001b[0m\u001b[0mfeed\u001b[0m\u001b[1;33m(\u001b[0m\u001b[0mbyte_str\u001b[0m\u001b[1;33m)\u001b[0m \u001b[1;33m==\u001b[0m \u001b[0mProbingState\u001b[0m\u001b[1;33m.\u001b[0m\u001b[0mFOUND_IT\u001b[0m\u001b[1;33m:\u001b[0m\u001b[1;33m\u001b[0m\u001b[1;33m\u001b[0m\u001b[0m\n\u001b[0m\u001b[0;32m    212\u001b[0m                     self.result = {'encoding': prober.charset_name,\n\u001b[0;32m    213\u001b[0m                                    \u001b[1;34m'confidence'\u001b[0m\u001b[1;33m:\u001b[0m \u001b[0mprober\u001b[0m\u001b[1;33m.\u001b[0m\u001b[0mget_confidence\u001b[0m\u001b[1;33m(\u001b[0m\u001b[1;33m)\u001b[0m\u001b[1;33m,\u001b[0m\u001b[1;33m\u001b[0m\u001b[1;33m\u001b[0m\u001b[0m\n",
      "\u001b[1;32m~\\anaconda3\\lib\\site-packages\\chardet\\charsetgroupprober.py\u001b[0m in \u001b[0;36mfeed\u001b[1;34m(self, byte_str)\u001b[0m\n\u001b[0;32m     69\u001b[0m             \u001b[1;32mif\u001b[0m \u001b[1;32mnot\u001b[0m \u001b[0mprober\u001b[0m\u001b[1;33m.\u001b[0m\u001b[0mactive\u001b[0m\u001b[1;33m:\u001b[0m\u001b[1;33m\u001b[0m\u001b[1;33m\u001b[0m\u001b[0m\n\u001b[0;32m     70\u001b[0m                 \u001b[1;32mcontinue\u001b[0m\u001b[1;33m\u001b[0m\u001b[1;33m\u001b[0m\u001b[0m\n\u001b[1;32m---> 71\u001b[1;33m             \u001b[0mstate\u001b[0m \u001b[1;33m=\u001b[0m \u001b[0mprober\u001b[0m\u001b[1;33m.\u001b[0m\u001b[0mfeed\u001b[0m\u001b[1;33m(\u001b[0m\u001b[0mbyte_str\u001b[0m\u001b[1;33m)\u001b[0m\u001b[1;33m\u001b[0m\u001b[1;33m\u001b[0m\u001b[0m\n\u001b[0m\u001b[0;32m     72\u001b[0m             \u001b[1;32mif\u001b[0m \u001b[1;32mnot\u001b[0m \u001b[0mstate\u001b[0m\u001b[1;33m:\u001b[0m\u001b[1;33m\u001b[0m\u001b[1;33m\u001b[0m\u001b[0m\n\u001b[0;32m     73\u001b[0m                 \u001b[1;32mcontinue\u001b[0m\u001b[1;33m\u001b[0m\u001b[1;33m\u001b[0m\u001b[0m\n",
      "\u001b[1;32m~\\anaconda3\\lib\\site-packages\\chardet\\sbcharsetprober.py\u001b[0m in \u001b[0;36mfeed\u001b[1;34m(self, byte_str)\u001b[0m\n\u001b[0;32m    103\u001b[0m             \u001b[1;31m#      _total_char purposes.\u001b[0m\u001b[1;33m\u001b[0m\u001b[1;33m\u001b[0m\u001b[1;33m\u001b[0m\u001b[0m\n\u001b[0;32m    104\u001b[0m             \u001b[1;32mif\u001b[0m \u001b[0morder\u001b[0m \u001b[1;33m<\u001b[0m \u001b[0mCharacterCategory\u001b[0m\u001b[1;33m.\u001b[0m\u001b[0mCONTROL\u001b[0m\u001b[1;33m:\u001b[0m\u001b[1;33m\u001b[0m\u001b[1;33m\u001b[0m\u001b[0m\n\u001b[1;32m--> 105\u001b[1;33m                 \u001b[0mself\u001b[0m\u001b[1;33m.\u001b[0m\u001b[0m_total_char\u001b[0m \u001b[1;33m+=\u001b[0m \u001b[1;36m1\u001b[0m\u001b[1;33m\u001b[0m\u001b[1;33m\u001b[0m\u001b[0m\n\u001b[0m\u001b[0;32m    106\u001b[0m             \u001b[1;31m# TODO: Follow uchardet's lead and discount confidence for frequent\u001b[0m\u001b[1;33m\u001b[0m\u001b[1;33m\u001b[0m\u001b[1;33m\u001b[0m\u001b[0m\n\u001b[0;32m    107\u001b[0m             \u001b[1;31m#       control characters.\u001b[0m\u001b[1;33m\u001b[0m\u001b[1;33m\u001b[0m\u001b[1;33m\u001b[0m\u001b[0m\n",
      "\u001b[1;31mKeyboardInterrupt\u001b[0m: "
     ]
    }
   ],
   "source": [
    "#Period 1\n",
    "url = 'https://www.nytimes.com/search?dropmab=true&endDate=20200423&query=Trump&sort=oldest&startDate=20200318&types=article'\n",
    "\n",
    "with closing(Firefox()) as driver:\n",
    "    driver.get(url)\n",
    "    soup = BeautifulSoup(driver.page_source)\n",
    "    while True:#soup.find('button', text='Show More') is not None:\n",
    "        try:\n",
    "            button = driver.find_element(By.XPATH, '//button[text()=\"Show More\"]')\n",
    "        except:\n",
    "            break\n",
    "        button.click()\n",
    "        WebDriverWait(driver, 10)\n",
    "        # store it to string variable\n",
    "        soup = BeautifulSoup(driver.page_source)\n",
    "    page_source = driver.page_source\n",
    "print(\"Pressed the Show More button a bunch\")    \n",
    "\n",
    "\n",
    "del soup\n",
    "soup1 = BeautifulSoup(page_source, 'html5lib')\n",
    "all_links = soup1.find_all('a')\n",
    "articles = []\n",
    "for a in all_links:\n",
    "    if a.find('h4'):\n",
    "        articles.append(a)\n",
    "print(\"Got all the Articles\")\n",
    "\n",
    "#all_the_text = []\n",
    "scores = []\n",
    "#analyzer = SentimentIntensityAnalyzer()\n",
    "hiv4 = ps.HIV4()\n",
    "\n",
    "print('Scraping...')\n",
    "print('\\r[' + '>' + '-'*19 + ']', end=' ', flush=True)\n",
    "\n",
    "for i in range(len(articles)):   \n",
    "    link = 'http://www.nytimes.com'+articles[i]['href']\n",
    "    #print(\"Scraping \", link)\n",
    "    article = requests.get(link)\n",
    "    article_content = article.content\n",
    "    soup_article = BeautifulSoup(article_content, 'html5lib')\n",
    "    paragraphs = soup_article.find_all('p')[4:-2]\n",
    "    body = ''\n",
    "    for j in range(len(paragraphs)):\n",
    "        body += ' ' + paragraphs[j].get_text()\n",
    "    #all_the_text.append(body)\n",
    "    #if 'Covid' in body or 'Coronavirus' in body:\n",
    "       # scores.append(analyzer.polarity_scores(body))\n",
    "    tokens = hiv4.tokenize(body)\n",
    "    scores.append(hiv4.get_score(tokens))\n",
    "    temp = int(i // (len(articles)/20))\n",
    "    if temp == 0: temp = 1\n",
    "    print('\\r[' + '='*(temp-1) + '>' + '-'*(20-temp) + ']', end=' ', flush=True)\n",
    "print('\\r[' + '='*(19) + '>' + ']', end=' ', flush=True)\n",
    "print(\"Analyzed the articles\")"
   ]
  },
  {
   "cell_type": "code",
   "execution_count": 10,
   "id": "048c556e-ffef-411e-bc98-959cbe904205",
   "metadata": {},
   "outputs": [
    {
     "data": {
      "text/plain": [
       "670"
      ]
     },
     "execution_count": 10,
     "metadata": {},
     "output_type": "execute_result"
    }
   ],
   "source": [
    "#836 articles\n",
    "len(scores)\n",
    "#Compund 0.04011555023923443"
   ]
  },
  {
   "cell_type": "code",
   "execution_count": 11,
   "id": "c2a79405-890b-4159-92a5-cce873e03dac",
   "metadata": {},
   "outputs": [
    {
     "data": {
      "text/plain": [
       "0.1834964322443599"
      ]
     },
     "execution_count": 11,
     "metadata": {},
     "output_type": "execute_result"
    }
   ],
   "source": [
    "av = 0\n",
    "for score in scores:\n",
    "    av += score['Polarity']\n",
    "av /= len(scores)\n",
    "av"
   ]
  },
  {
   "cell_type": "code",
   "execution_count": null,
   "id": "b94e32b1-1925-4bbc-91ea-1674d1c12507",
   "metadata": {},
   "outputs": [],
   "source": []
  },
  {
   "cell_type": "code",
   "execution_count": 224,
   "id": "bc702b80-021e-40d1-abd2-8d7a684a53d6",
   "metadata": {
    "scrolled": true,
    "tags": []
   },
   "outputs": [
    {
     "name": "stdout",
     "output_type": "stream",
     "text": [
      "Pressed the Show More button a bunch\n",
      "Got all the Articles\n",
      "Scraping...\n",
      "[>-------------------] Scraping...\n",
      "[===================>] Analyzed the articles\n"
     ]
    }
   ],
   "source": [
    "#Period 2\n",
    "url = 'https://www.nytimes.com/search?dropmab=false&endDate=20200520&query=Trump&sort=oldest&startDate=20200423&types=article'\n",
    "with closing(Firefox()) as driver:\n",
    "    driver.get(url)\n",
    "    soup = BeautifulSoup(driver.page_source)\n",
    "    while True:#soup.find('button', text='Show More') is not None:\n",
    "        try:\n",
    "            button = driver.find_element(By.XPATH, '//button[text()=\"Show More\"]')\n",
    "        except:\n",
    "            break\n",
    "        button.click()\n",
    "        WebDriverWait(driver, 10)\n",
    "        # store it to string variable\n",
    "        soup = BeautifulSoup(driver.page_source)\n",
    "    page_source = driver.page_source\n",
    "print(\"Pressed the Show More button a bunch\")    \n",
    "\n",
    "\n",
    "del soup\n",
    "soup1 = BeautifulSoup(page_source, 'html5lib')\n",
    "all_links = soup1.find_all('a')\n",
    "articles = []\n",
    "for a in all_links:\n",
    "    if a.find('h4'):\n",
    "        articles.append(a)\n",
    "print(\"Got all the Articles\")\n",
    "\n",
    "#all_the_text = []\n",
    "scores2 = []\n",
    "print('Scraping...')\n",
    "print('\\r[' + '>' + '-'*19 + ']', end=' ', flush=True)\n",
    "\n",
    "scores2 = []\n",
    "#analyzer = SentimentIntensityAnalyzer()\n",
    "hiv4 = ps.HIV4()\n",
    "\n",
    "print('Scraping...')\n",
    "print('\\r[' + '>' + '-'*19 + ']', end=' ', flush=True)\n",
    "\n",
    "for i in range(len(articles)):   \n",
    "    link = 'http://www.nytimes.com'+articles[i]['href']\n",
    "    #print(\"Scraping \", link)\n",
    "    article = requests.get(link)\n",
    "    article_content = article.content\n",
    "    soup_article = BeautifulSoup(article_content, 'html5lib')\n",
    "    paragraphs = soup_article.find_all('p')[4:-2]\n",
    "    body = ''\n",
    "    for j in range(len(paragraphs)):\n",
    "        body += ' ' + paragraphs[j].get_text()\n",
    "    #all_the_text.append(body)\n",
    "    #if 'Covid' in body or 'Coronavirus' in body:\n",
    "       # scores.append(analyzer.polarity_scores(body))\n",
    "    tokens = hiv4.tokenize(body)\n",
    "    scores2.append(hiv4.get_score(tokens))\n",
    "    temp = int(i // (len(articles)/20))\n",
    "    if temp == 0: temp = 1\n",
    "    print('\\r[' + '='*(temp-1) + '>' + '-'*(20-temp) + ']', end=' ', flush=True)\n",
    "print('\\r[' + '='*(19) + '>' + ']', end=' ', flush=True)\n",
    "print(\"Analyzed the articles\")"
   ]
  },
  {
   "cell_type": "code",
   "execution_count": 225,
   "id": "baeeb722-a7f4-47e0-9e4d-3375ac9671a8",
   "metadata": {},
   "outputs": [
    {
     "data": {
      "text/plain": [
       "692"
      ]
     },
     "execution_count": 225,
     "metadata": {},
     "output_type": "execute_result"
    }
   ],
   "source": [
    "#642 articles\n",
    "\n",
    "len(scores2)\n",
    "#Compund 0.21758286604361396"
   ]
  },
  {
   "cell_type": "code",
   "execution_count": 227,
   "id": "36e0bac7-25ee-4ed0-b95b-bd0e9ddbc044",
   "metadata": {},
   "outputs": [
    {
     "data": {
      "text/plain": [
       "0.17382998320361828"
      ]
     },
     "execution_count": 227,
     "metadata": {},
     "output_type": "execute_result"
    }
   ],
   "source": [
    "av2 = 0\n",
    "for score in scores2:\n",
    "    av2 += score['Polarity']\n",
    "av2 /= len(scores2)\n",
    "av2"
   ]
  },
  {
   "cell_type": "code",
   "execution_count": 159,
   "id": "f59d1442-4a03-436e-9d53-514cbc0d6668",
   "metadata": {},
   "outputs": [],
   "source": []
  },
  {
   "cell_type": "code",
   "execution_count": 51,
   "id": "fd88431d-5466-4dc9-816e-eff0919fca15",
   "metadata": {},
   "outputs": [],
   "source": []
  },
  {
   "cell_type": "markdown",
   "id": "8799fb08-751e-44a5-80d1-a1f70194ad5b",
   "metadata": {},
   "source": [
    "# Fox News"
   ]
  },
  {
   "cell_type": "code",
   "execution_count": 233,
   "id": "311b07ce-6e49-4a9d-9dee-7405bb4bdedc",
   "metadata": {},
   "outputs": [
    {
     "name": "stdout",
     "output_type": "stream",
     "text": [
      "Got all the Articles\n",
      "Scraping...\n",
      "[===================>] Analyzed the articles\n"
     ]
    }
   ],
   "source": [
    "#XPath to date-range\n",
    "url = 'https://www.foxnews.com/search-results/search?q=Trump'\n",
    "with closing(Firefox()) as driver:\n",
    "    driver.get(url)\n",
    "    \n",
    "    #choose the article content type\n",
    "    content = driver.find_element_by_xpath(\"//div[@class='filter content']/button\")\n",
    "    content.click()\n",
    "    content_article = driver.find_element_by_xpath(\"//input[@value='Article']\")\n",
    "    content_article.click()\n",
    "    \n",
    "    #we have to manually choose the date range for our search\n",
    "    min_month = driver.find_element_by_xpath(\"//div[@class='date min']/div[@class='sub month']\")\n",
    "    min_month.click()\n",
    "    min_month_choice = driver.find_element_by_xpath(\"//div[@class='date min']/div[@class='sub month']/ul[@class='option']/li[@class='03']\")\n",
    "    min_month_choice.click()\n",
    "    \n",
    "    min_day = driver.find_element_by_xpath(\"//div[@class='date min']/div[@class='sub day']\")\n",
    "    min_day.click()\n",
    "    min_day_choice = driver.find_element_by_xpath(\"//div[@class='date min']/div[@class='sub day']/ul[@class='option']/li[@class='18']\")\n",
    "    min_day_choice.click()\n",
    "    \n",
    "    min_year = driver.find_element_by_xpath(\"//div[@class='date min']/div[@class='sub year']\")\n",
    "    min_year.click()\n",
    "    min_year_choice = driver.find_element_by_xpath(\"//div[@class='date min']/div[@class='sub year']/ul[@class='option']/li[@id='2020']\")\n",
    "    min_year_choice.click()\n",
    "    \n",
    "    \n",
    "    max_month = driver.find_element_by_xpath(\"//div[@class='date max']/div[@class='sub month']\")\n",
    "    max_month.click()\n",
    "    max_month_choice = driver.find_element_by_xpath(\"//div[@class='date max']/div[@class='sub month']/ul[@class='option']/li[@class='04']\")\n",
    "    max_month_choice.click()\n",
    "    \n",
    "    max_day = driver.find_element_by_xpath(\"//div[@class='date max']/div[@class='sub day']\")\n",
    "    max_day.click()\n",
    "    max_day_choice = driver.find_element_by_xpath(\"//div[@class='date max']/div[@class='sub day']/ul[@class='option']/li[@class='22']\")\n",
    "    max_day_choice.click()\n",
    "    \n",
    "    max_year = driver.find_element_by_xpath(\"//div[@class='date max']/div[@class='sub year']\")\n",
    "    max_year.click()\n",
    "    max_year_choice = driver.find_element_by_xpath(\"//div[@class='date max']/div[@class='sub year']/ul[@class='option']/li[@id='2020']\")\n",
    "    max_year_choice.click()\n",
    "    \n",
    "    search_button = driver.find_element_by_xpath(\"//a[text()='Search']\")#\"//div[@class='search-form']/div[@class='button']\")#\n",
    "    search_button.click()\n",
    "    search_button.click()\n",
    "    WebDriverWait(driver, 10000)\n",
    "    \n",
    "    #now hit the load more button as much as possible\n",
    "    while True:\n",
    "        try:\n",
    "            button = driver.find_element_by_class_name('load-more')\n",
    "            button.click()\n",
    "            WebDriverWait(driver, 100)\n",
    "        except:\n",
    "            break\n",
    "    page_source = driver.page_source\n",
    "\n",
    "soup = BeautifulSoup(page_source, 'html5lib')\n",
    "all_articles = soup.find_all('article')\n",
    "links = []\n",
    "for a in all_articles:\n",
    "    links.append(a.find('a')['href'])\n",
    "print(\"Got all the Articles\")\n",
    "\n",
    "scores = []\n",
    "#analyzer = SentimentIntensityAnalyzer()\n",
    "hiv4 = ps.HIV4()\n",
    "\n",
    "print('Scraping...')\n",
    "print('\\r[' + '>' + '-'*19 + ']', end=' ', flush=True)\n",
    "\n",
    "for i, link in enumerate(links):   \n",
    "    article = requests.get(link)\n",
    "    article_content = article.content\n",
    "    soup_article = BeautifulSoup(article_content, 'html5lib')\n",
    "    paragraphs = soup_article.find_all('p')[3:-6]\n",
    "    body = ''\n",
    "    for j in range(len(paragraphs)):\n",
    "        body += ' ' + paragraphs[j].get_text()\n",
    "\n",
    "    body = body.replace('\\xa0', ' ')\n",
    "    #if 'Covid' in body or 'Coronavirus' in body:\n",
    "    #scores.append(analyzer.polarity_scores(body))\n",
    "    tokens = hiv4.tokenize(body)\n",
    "    scores.append(hiv4.get_score(tokens))\n",
    "    temp = int(i // (len(links)/20))\n",
    "    if temp == 0: temp = 1\n",
    "    print('\\r[' + '='*(temp-1) + '>' + '-'*(20-temp) + ']', end=' ', flush=True)\n",
    "print('\\r[' + '='*(19) + '>' + ']', end=' ', flush=True)\n",
    "print(\"Analyzed the articles\")"
   ]
  },
  {
   "cell_type": "code",
   "execution_count": 234,
   "id": "d75eff62-6721-4818-89cf-351f2550ae7d",
   "metadata": {},
   "outputs": [
    {
     "data": {
      "text/plain": [
       "55"
      ]
     },
     "execution_count": 234,
     "metadata": {},
     "output_type": "execute_result"
    }
   ],
   "source": [
    "#642 articles\n",
    "\n",
    "len(scores)\n",
    "#Compund 10.833333333333334"
   ]
  },
  {
   "cell_type": "code",
   "execution_count": 235,
   "id": "55957ac1-143f-4bf0-8f51-02f39334b2e7",
   "metadata": {},
   "outputs": [
    {
     "data": {
      "text/plain": [
       "0.10756928274876155"
      ]
     },
     "execution_count": 235,
     "metadata": {},
     "output_type": "execute_result"
    }
   ],
   "source": [
    "av2 = 0\n",
    "for score in scores:\n",
    "    av2 += score['Polarity']\n",
    "av2 /= len(scores)\n",
    "av2"
   ]
  },
  {
   "cell_type": "code",
   "execution_count": 2,
   "id": "a19bacde-262f-4317-b4ff-6ccc8e62bed7",
   "metadata": {},
   "outputs": [
    {
     "ename": "KeyboardInterrupt",
     "evalue": "",
     "output_type": "error",
     "traceback": [
      "\u001b[1;31m---------------------------------------------------------------------------\u001b[0m",
      "\u001b[1;31mKeyboardInterrupt\u001b[0m                         Traceback (most recent call last)",
      "\u001b[1;32m<ipython-input-2-e3d06d76adb6>\u001b[0m in \u001b[0;36m<module>\u001b[1;34m\u001b[0m\n\u001b[0;32m      2\u001b[0m \u001b[0murl\u001b[0m \u001b[1;33m=\u001b[0m \u001b[1;34m'https://www.foxnews.com/search-results/search?q=Trump'\u001b[0m\u001b[1;33m\u001b[0m\u001b[1;33m\u001b[0m\u001b[0m\n\u001b[0;32m      3\u001b[0m \u001b[1;32mwith\u001b[0m \u001b[0mclosing\u001b[0m\u001b[1;33m(\u001b[0m\u001b[0mFirefox\u001b[0m\u001b[1;33m(\u001b[0m\u001b[1;33m)\u001b[0m\u001b[1;33m)\u001b[0m \u001b[1;32mas\u001b[0m \u001b[0mdriver\u001b[0m\u001b[1;33m:\u001b[0m\u001b[1;33m\u001b[0m\u001b[1;33m\u001b[0m\u001b[0m\n\u001b[1;32m----> 4\u001b[1;33m     \u001b[0mdriver\u001b[0m\u001b[1;33m.\u001b[0m\u001b[0mget\u001b[0m\u001b[1;33m(\u001b[0m\u001b[0murl\u001b[0m\u001b[1;33m)\u001b[0m\u001b[1;33m\u001b[0m\u001b[1;33m\u001b[0m\u001b[0m\n\u001b[0m\u001b[0;32m      5\u001b[0m \u001b[1;33m\u001b[0m\u001b[0m\n\u001b[0;32m      6\u001b[0m     \u001b[1;31m#choose the article content type\u001b[0m\u001b[1;33m\u001b[0m\u001b[1;33m\u001b[0m\u001b[1;33m\u001b[0m\u001b[0m\n",
      "\u001b[1;32m~\\anaconda3\\lib\\site-packages\\selenium\\webdriver\\remote\\webdriver.py\u001b[0m in \u001b[0;36mget\u001b[1;34m(self, url)\u001b[0m\n\u001b[0;32m    331\u001b[0m         \u001b[0mLoads\u001b[0m \u001b[0ma\u001b[0m \u001b[0mweb\u001b[0m \u001b[0mpage\u001b[0m \u001b[1;32min\u001b[0m \u001b[0mthe\u001b[0m \u001b[0mcurrent\u001b[0m \u001b[0mbrowser\u001b[0m \u001b[0msession\u001b[0m\u001b[1;33m.\u001b[0m\u001b[1;33m\u001b[0m\u001b[1;33m\u001b[0m\u001b[0m\n\u001b[0;32m    332\u001b[0m         \"\"\"\n\u001b[1;32m--> 333\u001b[1;33m         \u001b[0mself\u001b[0m\u001b[1;33m.\u001b[0m\u001b[0mexecute\u001b[0m\u001b[1;33m(\u001b[0m\u001b[0mCommand\u001b[0m\u001b[1;33m.\u001b[0m\u001b[0mGET\u001b[0m\u001b[1;33m,\u001b[0m \u001b[1;33m{\u001b[0m\u001b[1;34m'url'\u001b[0m\u001b[1;33m:\u001b[0m \u001b[0murl\u001b[0m\u001b[1;33m}\u001b[0m\u001b[1;33m)\u001b[0m\u001b[1;33m\u001b[0m\u001b[1;33m\u001b[0m\u001b[0m\n\u001b[0m\u001b[0;32m    334\u001b[0m \u001b[1;33m\u001b[0m\u001b[0m\n\u001b[0;32m    335\u001b[0m     \u001b[1;33m@\u001b[0m\u001b[0mproperty\u001b[0m\u001b[1;33m\u001b[0m\u001b[1;33m\u001b[0m\u001b[0m\n",
      "\u001b[1;32m~\\anaconda3\\lib\\site-packages\\selenium\\webdriver\\remote\\webdriver.py\u001b[0m in \u001b[0;36mexecute\u001b[1;34m(self, driver_command, params)\u001b[0m\n\u001b[0;32m    317\u001b[0m \u001b[1;33m\u001b[0m\u001b[0m\n\u001b[0;32m    318\u001b[0m         \u001b[0mparams\u001b[0m \u001b[1;33m=\u001b[0m \u001b[0mself\u001b[0m\u001b[1;33m.\u001b[0m\u001b[0m_wrap_value\u001b[0m\u001b[1;33m(\u001b[0m\u001b[0mparams\u001b[0m\u001b[1;33m)\u001b[0m\u001b[1;33m\u001b[0m\u001b[1;33m\u001b[0m\u001b[0m\n\u001b[1;32m--> 319\u001b[1;33m         \u001b[0mresponse\u001b[0m \u001b[1;33m=\u001b[0m \u001b[0mself\u001b[0m\u001b[1;33m.\u001b[0m\u001b[0mcommand_executor\u001b[0m\u001b[1;33m.\u001b[0m\u001b[0mexecute\u001b[0m\u001b[1;33m(\u001b[0m\u001b[0mdriver_command\u001b[0m\u001b[1;33m,\u001b[0m \u001b[0mparams\u001b[0m\u001b[1;33m)\u001b[0m\u001b[1;33m\u001b[0m\u001b[1;33m\u001b[0m\u001b[0m\n\u001b[0m\u001b[0;32m    320\u001b[0m         \u001b[1;32mif\u001b[0m \u001b[0mresponse\u001b[0m\u001b[1;33m:\u001b[0m\u001b[1;33m\u001b[0m\u001b[1;33m\u001b[0m\u001b[0m\n\u001b[0;32m    321\u001b[0m             \u001b[0mself\u001b[0m\u001b[1;33m.\u001b[0m\u001b[0merror_handler\u001b[0m\u001b[1;33m.\u001b[0m\u001b[0mcheck_response\u001b[0m\u001b[1;33m(\u001b[0m\u001b[0mresponse\u001b[0m\u001b[1;33m)\u001b[0m\u001b[1;33m\u001b[0m\u001b[1;33m\u001b[0m\u001b[0m\n",
      "\u001b[1;32m~\\anaconda3\\lib\\site-packages\\selenium\\webdriver\\remote\\remote_connection.py\u001b[0m in \u001b[0;36mexecute\u001b[1;34m(self, command, params)\u001b[0m\n\u001b[0;32m    372\u001b[0m         \u001b[0mdata\u001b[0m \u001b[1;33m=\u001b[0m \u001b[0mutils\u001b[0m\u001b[1;33m.\u001b[0m\u001b[0mdump_json\u001b[0m\u001b[1;33m(\u001b[0m\u001b[0mparams\u001b[0m\u001b[1;33m)\u001b[0m\u001b[1;33m\u001b[0m\u001b[1;33m\u001b[0m\u001b[0m\n\u001b[0;32m    373\u001b[0m         \u001b[0murl\u001b[0m \u001b[1;33m=\u001b[0m \u001b[1;34m'%s%s'\u001b[0m \u001b[1;33m%\u001b[0m \u001b[1;33m(\u001b[0m\u001b[0mself\u001b[0m\u001b[1;33m.\u001b[0m\u001b[0m_url\u001b[0m\u001b[1;33m,\u001b[0m \u001b[0mpath\u001b[0m\u001b[1;33m)\u001b[0m\u001b[1;33m\u001b[0m\u001b[1;33m\u001b[0m\u001b[0m\n\u001b[1;32m--> 374\u001b[1;33m         \u001b[1;32mreturn\u001b[0m \u001b[0mself\u001b[0m\u001b[1;33m.\u001b[0m\u001b[0m_request\u001b[0m\u001b[1;33m(\u001b[0m\u001b[0mcommand_info\u001b[0m\u001b[1;33m[\u001b[0m\u001b[1;36m0\u001b[0m\u001b[1;33m]\u001b[0m\u001b[1;33m,\u001b[0m \u001b[0murl\u001b[0m\u001b[1;33m,\u001b[0m \u001b[0mbody\u001b[0m\u001b[1;33m=\u001b[0m\u001b[0mdata\u001b[0m\u001b[1;33m)\u001b[0m\u001b[1;33m\u001b[0m\u001b[1;33m\u001b[0m\u001b[0m\n\u001b[0m\u001b[0;32m    375\u001b[0m \u001b[1;33m\u001b[0m\u001b[0m\n\u001b[0;32m    376\u001b[0m     \u001b[1;32mdef\u001b[0m \u001b[0m_request\u001b[0m\u001b[1;33m(\u001b[0m\u001b[0mself\u001b[0m\u001b[1;33m,\u001b[0m \u001b[0mmethod\u001b[0m\u001b[1;33m,\u001b[0m \u001b[0murl\u001b[0m\u001b[1;33m,\u001b[0m \u001b[0mbody\u001b[0m\u001b[1;33m=\u001b[0m\u001b[1;32mNone\u001b[0m\u001b[1;33m)\u001b[0m\u001b[1;33m:\u001b[0m\u001b[1;33m\u001b[0m\u001b[1;33m\u001b[0m\u001b[0m\n",
      "\u001b[1;32m~\\anaconda3\\lib\\site-packages\\selenium\\webdriver\\remote\\remote_connection.py\u001b[0m in \u001b[0;36m_request\u001b[1;34m(self, method, url, body)\u001b[0m\n\u001b[0;32m    395\u001b[0m \u001b[1;33m\u001b[0m\u001b[0m\n\u001b[0;32m    396\u001b[0m         \u001b[1;32mif\u001b[0m \u001b[0mself\u001b[0m\u001b[1;33m.\u001b[0m\u001b[0mkeep_alive\u001b[0m\u001b[1;33m:\u001b[0m\u001b[1;33m\u001b[0m\u001b[1;33m\u001b[0m\u001b[0m\n\u001b[1;32m--> 397\u001b[1;33m             \u001b[0mresp\u001b[0m \u001b[1;33m=\u001b[0m \u001b[0mself\u001b[0m\u001b[1;33m.\u001b[0m\u001b[0m_conn\u001b[0m\u001b[1;33m.\u001b[0m\u001b[0mrequest\u001b[0m\u001b[1;33m(\u001b[0m\u001b[0mmethod\u001b[0m\u001b[1;33m,\u001b[0m \u001b[0murl\u001b[0m\u001b[1;33m,\u001b[0m \u001b[0mbody\u001b[0m\u001b[1;33m=\u001b[0m\u001b[0mbody\u001b[0m\u001b[1;33m,\u001b[0m \u001b[0mheaders\u001b[0m\u001b[1;33m=\u001b[0m\u001b[0mheaders\u001b[0m\u001b[1;33m)\u001b[0m\u001b[1;33m\u001b[0m\u001b[1;33m\u001b[0m\u001b[0m\n\u001b[0m\u001b[0;32m    398\u001b[0m \u001b[1;33m\u001b[0m\u001b[0m\n\u001b[0;32m    399\u001b[0m             \u001b[0mstatuscode\u001b[0m \u001b[1;33m=\u001b[0m \u001b[0mresp\u001b[0m\u001b[1;33m.\u001b[0m\u001b[0mstatus\u001b[0m\u001b[1;33m\u001b[0m\u001b[1;33m\u001b[0m\u001b[0m\n",
      "\u001b[1;32m~\\anaconda3\\lib\\site-packages\\urllib3\\request.py\u001b[0m in \u001b[0;36mrequest\u001b[1;34m(self, method, url, fields, headers, **urlopen_kw)\u001b[0m\n\u001b[0;32m     76\u001b[0m             )\n\u001b[0;32m     77\u001b[0m         \u001b[1;32melse\u001b[0m\u001b[1;33m:\u001b[0m\u001b[1;33m\u001b[0m\u001b[1;33m\u001b[0m\u001b[0m\n\u001b[1;32m---> 78\u001b[1;33m             return self.request_encode_body(\n\u001b[0m\u001b[0;32m     79\u001b[0m                 \u001b[0mmethod\u001b[0m\u001b[1;33m,\u001b[0m \u001b[0murl\u001b[0m\u001b[1;33m,\u001b[0m \u001b[0mfields\u001b[0m\u001b[1;33m=\u001b[0m\u001b[0mfields\u001b[0m\u001b[1;33m,\u001b[0m \u001b[0mheaders\u001b[0m\u001b[1;33m=\u001b[0m\u001b[0mheaders\u001b[0m\u001b[1;33m,\u001b[0m \u001b[1;33m**\u001b[0m\u001b[0murlopen_kw\u001b[0m\u001b[1;33m\u001b[0m\u001b[1;33m\u001b[0m\u001b[0m\n\u001b[0;32m     80\u001b[0m             )\n",
      "\u001b[1;32m~\\anaconda3\\lib\\site-packages\\urllib3\\request.py\u001b[0m in \u001b[0;36mrequest_encode_body\u001b[1;34m(self, method, url, fields, headers, encode_multipart, multipart_boundary, **urlopen_kw)\u001b[0m\n\u001b[0;32m    168\u001b[0m         \u001b[0mextra_kw\u001b[0m\u001b[1;33m.\u001b[0m\u001b[0mupdate\u001b[0m\u001b[1;33m(\u001b[0m\u001b[0murlopen_kw\u001b[0m\u001b[1;33m)\u001b[0m\u001b[1;33m\u001b[0m\u001b[1;33m\u001b[0m\u001b[0m\n\u001b[0;32m    169\u001b[0m \u001b[1;33m\u001b[0m\u001b[0m\n\u001b[1;32m--> 170\u001b[1;33m         \u001b[1;32mreturn\u001b[0m \u001b[0mself\u001b[0m\u001b[1;33m.\u001b[0m\u001b[0murlopen\u001b[0m\u001b[1;33m(\u001b[0m\u001b[0mmethod\u001b[0m\u001b[1;33m,\u001b[0m \u001b[0murl\u001b[0m\u001b[1;33m,\u001b[0m \u001b[1;33m**\u001b[0m\u001b[0mextra_kw\u001b[0m\u001b[1;33m)\u001b[0m\u001b[1;33m\u001b[0m\u001b[1;33m\u001b[0m\u001b[0m\n\u001b[0m",
      "\u001b[1;32m~\\anaconda3\\lib\\site-packages\\urllib3\\poolmanager.py\u001b[0m in \u001b[0;36murlopen\u001b[1;34m(self, method, url, redirect, **kw)\u001b[0m\n\u001b[0;32m    373\u001b[0m             \u001b[0mresponse\u001b[0m \u001b[1;33m=\u001b[0m \u001b[0mconn\u001b[0m\u001b[1;33m.\u001b[0m\u001b[0murlopen\u001b[0m\u001b[1;33m(\u001b[0m\u001b[0mmethod\u001b[0m\u001b[1;33m,\u001b[0m \u001b[0murl\u001b[0m\u001b[1;33m,\u001b[0m \u001b[1;33m**\u001b[0m\u001b[0mkw\u001b[0m\u001b[1;33m)\u001b[0m\u001b[1;33m\u001b[0m\u001b[1;33m\u001b[0m\u001b[0m\n\u001b[0;32m    374\u001b[0m         \u001b[1;32melse\u001b[0m\u001b[1;33m:\u001b[0m\u001b[1;33m\u001b[0m\u001b[1;33m\u001b[0m\u001b[0m\n\u001b[1;32m--> 375\u001b[1;33m             \u001b[0mresponse\u001b[0m \u001b[1;33m=\u001b[0m \u001b[0mconn\u001b[0m\u001b[1;33m.\u001b[0m\u001b[0murlopen\u001b[0m\u001b[1;33m(\u001b[0m\u001b[0mmethod\u001b[0m\u001b[1;33m,\u001b[0m \u001b[0mu\u001b[0m\u001b[1;33m.\u001b[0m\u001b[0mrequest_uri\u001b[0m\u001b[1;33m,\u001b[0m \u001b[1;33m**\u001b[0m\u001b[0mkw\u001b[0m\u001b[1;33m)\u001b[0m\u001b[1;33m\u001b[0m\u001b[1;33m\u001b[0m\u001b[0m\n\u001b[0m\u001b[0;32m    376\u001b[0m \u001b[1;33m\u001b[0m\u001b[0m\n\u001b[0;32m    377\u001b[0m         \u001b[0mredirect_location\u001b[0m \u001b[1;33m=\u001b[0m \u001b[0mredirect\u001b[0m \u001b[1;32mand\u001b[0m \u001b[0mresponse\u001b[0m\u001b[1;33m.\u001b[0m\u001b[0mget_redirect_location\u001b[0m\u001b[1;33m(\u001b[0m\u001b[1;33m)\u001b[0m\u001b[1;33m\u001b[0m\u001b[1;33m\u001b[0m\u001b[0m\n",
      "\u001b[1;32m~\\anaconda3\\lib\\site-packages\\urllib3\\connectionpool.py\u001b[0m in \u001b[0;36murlopen\u001b[1;34m(self, method, url, body, headers, retries, redirect, assert_same_host, timeout, pool_timeout, release_conn, chunked, body_pos, **response_kw)\u001b[0m\n\u001b[0;32m    701\u001b[0m \u001b[1;33m\u001b[0m\u001b[0m\n\u001b[0;32m    702\u001b[0m             \u001b[1;31m# Make the request on the httplib connection object.\u001b[0m\u001b[1;33m\u001b[0m\u001b[1;33m\u001b[0m\u001b[1;33m\u001b[0m\u001b[0m\n\u001b[1;32m--> 703\u001b[1;33m             httplib_response = self._make_request(\n\u001b[0m\u001b[0;32m    704\u001b[0m                 \u001b[0mconn\u001b[0m\u001b[1;33m,\u001b[0m\u001b[1;33m\u001b[0m\u001b[1;33m\u001b[0m\u001b[0m\n\u001b[0;32m    705\u001b[0m                 \u001b[0mmethod\u001b[0m\u001b[1;33m,\u001b[0m\u001b[1;33m\u001b[0m\u001b[1;33m\u001b[0m\u001b[0m\n",
      "\u001b[1;32m~\\anaconda3\\lib\\site-packages\\urllib3\\connectionpool.py\u001b[0m in \u001b[0;36m_make_request\u001b[1;34m(self, conn, method, url, timeout, chunked, **httplib_request_kw)\u001b[0m\n\u001b[0;32m    447\u001b[0m                     \u001b[1;31m# Python 3 (including for exceptions like SystemExit).\u001b[0m\u001b[1;33m\u001b[0m\u001b[1;33m\u001b[0m\u001b[1;33m\u001b[0m\u001b[0m\n\u001b[0;32m    448\u001b[0m                     \u001b[1;31m# Otherwise it looks like a bug in the code.\u001b[0m\u001b[1;33m\u001b[0m\u001b[1;33m\u001b[0m\u001b[1;33m\u001b[0m\u001b[0m\n\u001b[1;32m--> 449\u001b[1;33m                     \u001b[0msix\u001b[0m\u001b[1;33m.\u001b[0m\u001b[0mraise_from\u001b[0m\u001b[1;33m(\u001b[0m\u001b[0me\u001b[0m\u001b[1;33m,\u001b[0m \u001b[1;32mNone\u001b[0m\u001b[1;33m)\u001b[0m\u001b[1;33m\u001b[0m\u001b[1;33m\u001b[0m\u001b[0m\n\u001b[0m\u001b[0;32m    450\u001b[0m         \u001b[1;32mexcept\u001b[0m \u001b[1;33m(\u001b[0m\u001b[0mSocketTimeout\u001b[0m\u001b[1;33m,\u001b[0m \u001b[0mBaseSSLError\u001b[0m\u001b[1;33m,\u001b[0m \u001b[0mSocketError\u001b[0m\u001b[1;33m)\u001b[0m \u001b[1;32mas\u001b[0m \u001b[0me\u001b[0m\u001b[1;33m:\u001b[0m\u001b[1;33m\u001b[0m\u001b[1;33m\u001b[0m\u001b[0m\n\u001b[0;32m    451\u001b[0m             \u001b[0mself\u001b[0m\u001b[1;33m.\u001b[0m\u001b[0m_raise_timeout\u001b[0m\u001b[1;33m(\u001b[0m\u001b[0merr\u001b[0m\u001b[1;33m=\u001b[0m\u001b[0me\u001b[0m\u001b[1;33m,\u001b[0m \u001b[0murl\u001b[0m\u001b[1;33m=\u001b[0m\u001b[0murl\u001b[0m\u001b[1;33m,\u001b[0m \u001b[0mtimeout_value\u001b[0m\u001b[1;33m=\u001b[0m\u001b[0mread_timeout\u001b[0m\u001b[1;33m)\u001b[0m\u001b[1;33m\u001b[0m\u001b[1;33m\u001b[0m\u001b[0m\n",
      "\u001b[1;32m~\\anaconda3\\lib\\site-packages\\urllib3\\packages\\six.py\u001b[0m in \u001b[0;36mraise_from\u001b[1;34m(value, from_value)\u001b[0m\n",
      "\u001b[1;32m~\\anaconda3\\lib\\site-packages\\urllib3\\connectionpool.py\u001b[0m in \u001b[0;36m_make_request\u001b[1;34m(self, conn, method, url, timeout, chunked, **httplib_request_kw)\u001b[0m\n\u001b[0;32m    442\u001b[0m                 \u001b[1;31m# Python 3\u001b[0m\u001b[1;33m\u001b[0m\u001b[1;33m\u001b[0m\u001b[1;33m\u001b[0m\u001b[0m\n\u001b[0;32m    443\u001b[0m                 \u001b[1;32mtry\u001b[0m\u001b[1;33m:\u001b[0m\u001b[1;33m\u001b[0m\u001b[1;33m\u001b[0m\u001b[0m\n\u001b[1;32m--> 444\u001b[1;33m                     \u001b[0mhttplib_response\u001b[0m \u001b[1;33m=\u001b[0m \u001b[0mconn\u001b[0m\u001b[1;33m.\u001b[0m\u001b[0mgetresponse\u001b[0m\u001b[1;33m(\u001b[0m\u001b[1;33m)\u001b[0m\u001b[1;33m\u001b[0m\u001b[1;33m\u001b[0m\u001b[0m\n\u001b[0m\u001b[0;32m    445\u001b[0m                 \u001b[1;32mexcept\u001b[0m \u001b[0mBaseException\u001b[0m \u001b[1;32mas\u001b[0m \u001b[0me\u001b[0m\u001b[1;33m:\u001b[0m\u001b[1;33m\u001b[0m\u001b[1;33m\u001b[0m\u001b[0m\n\u001b[0;32m    446\u001b[0m                     \u001b[1;31m# Remove the TypeError from the exception chain in\u001b[0m\u001b[1;33m\u001b[0m\u001b[1;33m\u001b[0m\u001b[1;33m\u001b[0m\u001b[0m\n",
      "\u001b[1;32m~\\anaconda3\\lib\\http\\client.py\u001b[0m in \u001b[0;36mgetresponse\u001b[1;34m(self)\u001b[0m\n\u001b[0;32m   1342\u001b[0m         \u001b[1;32mtry\u001b[0m\u001b[1;33m:\u001b[0m\u001b[1;33m\u001b[0m\u001b[1;33m\u001b[0m\u001b[0m\n\u001b[0;32m   1343\u001b[0m             \u001b[1;32mtry\u001b[0m\u001b[1;33m:\u001b[0m\u001b[1;33m\u001b[0m\u001b[1;33m\u001b[0m\u001b[0m\n\u001b[1;32m-> 1344\u001b[1;33m                 \u001b[0mresponse\u001b[0m\u001b[1;33m.\u001b[0m\u001b[0mbegin\u001b[0m\u001b[1;33m(\u001b[0m\u001b[1;33m)\u001b[0m\u001b[1;33m\u001b[0m\u001b[1;33m\u001b[0m\u001b[0m\n\u001b[0m\u001b[0;32m   1345\u001b[0m             \u001b[1;32mexcept\u001b[0m \u001b[0mConnectionError\u001b[0m\u001b[1;33m:\u001b[0m\u001b[1;33m\u001b[0m\u001b[1;33m\u001b[0m\u001b[0m\n\u001b[0;32m   1346\u001b[0m                 \u001b[0mself\u001b[0m\u001b[1;33m.\u001b[0m\u001b[0mclose\u001b[0m\u001b[1;33m(\u001b[0m\u001b[1;33m)\u001b[0m\u001b[1;33m\u001b[0m\u001b[1;33m\u001b[0m\u001b[0m\n",
      "\u001b[1;32m~\\anaconda3\\lib\\http\\client.py\u001b[0m in \u001b[0;36mbegin\u001b[1;34m(self)\u001b[0m\n\u001b[0;32m    305\u001b[0m         \u001b[1;31m# read until we get a non-100 response\u001b[0m\u001b[1;33m\u001b[0m\u001b[1;33m\u001b[0m\u001b[1;33m\u001b[0m\u001b[0m\n\u001b[0;32m    306\u001b[0m         \u001b[1;32mwhile\u001b[0m \u001b[1;32mTrue\u001b[0m\u001b[1;33m:\u001b[0m\u001b[1;33m\u001b[0m\u001b[1;33m\u001b[0m\u001b[0m\n\u001b[1;32m--> 307\u001b[1;33m             \u001b[0mversion\u001b[0m\u001b[1;33m,\u001b[0m \u001b[0mstatus\u001b[0m\u001b[1;33m,\u001b[0m \u001b[0mreason\u001b[0m \u001b[1;33m=\u001b[0m \u001b[0mself\u001b[0m\u001b[1;33m.\u001b[0m\u001b[0m_read_status\u001b[0m\u001b[1;33m(\u001b[0m\u001b[1;33m)\u001b[0m\u001b[1;33m\u001b[0m\u001b[1;33m\u001b[0m\u001b[0m\n\u001b[0m\u001b[0;32m    308\u001b[0m             \u001b[1;32mif\u001b[0m \u001b[0mstatus\u001b[0m \u001b[1;33m!=\u001b[0m \u001b[0mCONTINUE\u001b[0m\u001b[1;33m:\u001b[0m\u001b[1;33m\u001b[0m\u001b[1;33m\u001b[0m\u001b[0m\n\u001b[0;32m    309\u001b[0m                 \u001b[1;32mbreak\u001b[0m\u001b[1;33m\u001b[0m\u001b[1;33m\u001b[0m\u001b[0m\n",
      "\u001b[1;32m~\\anaconda3\\lib\\http\\client.py\u001b[0m in \u001b[0;36m_read_status\u001b[1;34m(self)\u001b[0m\n\u001b[0;32m    266\u001b[0m \u001b[1;33m\u001b[0m\u001b[0m\n\u001b[0;32m    267\u001b[0m     \u001b[1;32mdef\u001b[0m \u001b[0m_read_status\u001b[0m\u001b[1;33m(\u001b[0m\u001b[0mself\u001b[0m\u001b[1;33m)\u001b[0m\u001b[1;33m:\u001b[0m\u001b[1;33m\u001b[0m\u001b[1;33m\u001b[0m\u001b[0m\n\u001b[1;32m--> 268\u001b[1;33m         \u001b[0mline\u001b[0m \u001b[1;33m=\u001b[0m \u001b[0mstr\u001b[0m\u001b[1;33m(\u001b[0m\u001b[0mself\u001b[0m\u001b[1;33m.\u001b[0m\u001b[0mfp\u001b[0m\u001b[1;33m.\u001b[0m\u001b[0mreadline\u001b[0m\u001b[1;33m(\u001b[0m\u001b[0m_MAXLINE\u001b[0m \u001b[1;33m+\u001b[0m \u001b[1;36m1\u001b[0m\u001b[1;33m)\u001b[0m\u001b[1;33m,\u001b[0m \u001b[1;34m\"iso-8859-1\"\u001b[0m\u001b[1;33m)\u001b[0m\u001b[1;33m\u001b[0m\u001b[1;33m\u001b[0m\u001b[0m\n\u001b[0m\u001b[0;32m    269\u001b[0m         \u001b[1;32mif\u001b[0m \u001b[0mlen\u001b[0m\u001b[1;33m(\u001b[0m\u001b[0mline\u001b[0m\u001b[1;33m)\u001b[0m \u001b[1;33m>\u001b[0m \u001b[0m_MAXLINE\u001b[0m\u001b[1;33m:\u001b[0m\u001b[1;33m\u001b[0m\u001b[1;33m\u001b[0m\u001b[0m\n\u001b[0;32m    270\u001b[0m             \u001b[1;32mraise\u001b[0m \u001b[0mLineTooLong\u001b[0m\u001b[1;33m(\u001b[0m\u001b[1;34m\"status line\"\u001b[0m\u001b[1;33m)\u001b[0m\u001b[1;33m\u001b[0m\u001b[1;33m\u001b[0m\u001b[0m\n",
      "\u001b[1;32m~\\anaconda3\\lib\\socket.py\u001b[0m in \u001b[0;36mreadinto\u001b[1;34m(self, b)\u001b[0m\n\u001b[0;32m    667\u001b[0m         \u001b[1;32mwhile\u001b[0m \u001b[1;32mTrue\u001b[0m\u001b[1;33m:\u001b[0m\u001b[1;33m\u001b[0m\u001b[1;33m\u001b[0m\u001b[0m\n\u001b[0;32m    668\u001b[0m             \u001b[1;32mtry\u001b[0m\u001b[1;33m:\u001b[0m\u001b[1;33m\u001b[0m\u001b[1;33m\u001b[0m\u001b[0m\n\u001b[1;32m--> 669\u001b[1;33m                 \u001b[1;32mreturn\u001b[0m \u001b[0mself\u001b[0m\u001b[1;33m.\u001b[0m\u001b[0m_sock\u001b[0m\u001b[1;33m.\u001b[0m\u001b[0mrecv_into\u001b[0m\u001b[1;33m(\u001b[0m\u001b[0mb\u001b[0m\u001b[1;33m)\u001b[0m\u001b[1;33m\u001b[0m\u001b[1;33m\u001b[0m\u001b[0m\n\u001b[0m\u001b[0;32m    670\u001b[0m             \u001b[1;32mexcept\u001b[0m \u001b[0mtimeout\u001b[0m\u001b[1;33m:\u001b[0m\u001b[1;33m\u001b[0m\u001b[1;33m\u001b[0m\u001b[0m\n\u001b[0;32m    671\u001b[0m                 \u001b[0mself\u001b[0m\u001b[1;33m.\u001b[0m\u001b[0m_timeout_occurred\u001b[0m \u001b[1;33m=\u001b[0m \u001b[1;32mTrue\u001b[0m\u001b[1;33m\u001b[0m\u001b[1;33m\u001b[0m\u001b[0m\n",
      "\u001b[1;31mKeyboardInterrupt\u001b[0m: "
     ]
    }
   ],
   "source": [
    "#XPath to date-range\n",
    "url = 'https://www.foxnews.com/search-results/search?q=Trump'\n",
    "with closing(Firefox()) as driver:\n",
    "    driver.get(url)\n",
    "    \n",
    "    #choose the article content type\n",
    "    content = driver.find_element_by_xpath(\"//div[@class='filter content']/button\")\n",
    "    content.click()\n",
    "    content_article = driver.find_element_by_xpath(\"//input[@value='Article']\")\n",
    "    content_article.click()\n",
    "    \n",
    "    #we have to manually choose the date range for our search\n",
    "    min_month = driver.find_element_by_xpath(\"//div[@class='date min']/div[@class='sub month']\")\n",
    "    min_month.click()\n",
    "    min_month_choice = driver.find_element_by_xpath(\"//div[@class='date min']/div[@class='sub month']/ul[@class='option']/li[@class='04']\")\n",
    "    min_month_choice.click()\n",
    "    \n",
    "    min_day = driver.find_element_by_xpath(\"//div[@class='date min']/div[@class='sub day']\")\n",
    "    min_day.click()\n",
    "    min_day_choice = driver.find_element_by_xpath(\"//div[@class='date min']/div[@class='sub day']/ul[@class='option']/li[@class='22']\")\n",
    "    min_day_choice.click()\n",
    "    \n",
    "    min_year = driver.find_element_by_xpath(\"//div[@class='date min']/div[@class='sub year']\")\n",
    "    min_year.click()\n",
    "    min_year_choice = driver.find_element_by_xpath(\"//div[@class='date min']/div[@class='sub year']/ul[@class='option']/li[@id='2020']\")\n",
    "    min_year_choice.click()\n",
    "    \n",
    "    \n",
    "    max_month = driver.find_element_by_xpath(\"//div[@class='date max']/div[@class='sub month']\")\n",
    "    max_month.click()\n",
    "    max_month_choice = driver.find_element_by_xpath(\"//div[@class='date max']/div[@class='sub month']/ul[@class='option']/li[@class='05']\")\n",
    "    max_month_choice.click()\n",
    "    \n",
    "    max_day = driver.find_element_by_xpath(\"//div[@class='date max']/div[@class='sub day']\")\n",
    "    max_day.click()\n",
    "    max_day_choice = driver.find_element_by_xpath(\"//div[@class='date max']/div[@class='sub day']/ul[@class='option']/li[@class='20']\")\n",
    "    max_day_choice.click()\n",
    "    \n",
    "    max_year = driver.find_element_by_xpath(\"//div[@class='date max']/div[@class='sub year']\")\n",
    "    max_year.click()\n",
    "    max_year_choice = driver.find_element_by_xpath(\"//div[@class='date max']/div[@class='sub year']/ul[@class='option']/li[@id='2020']\")\n",
    "    max_year_choice.click()\n",
    "    \n",
    "    search_button = driver.find_element_by_xpath(\"//a[text()='Search']\")#\"//div[@class='search-form']/div[@class='button']\")#\n",
    "    search_button.click()\n",
    "    search_button.click()\n",
    "    WebDriverWait(driver, 10000)\n",
    "    \n",
    "    #now hit the load more button as much as possible\n",
    "    while True:\n",
    "        try:\n",
    "            button = driver.find_element_by_class_name('load-more')\n",
    "            button.click()\n",
    "            WebDriverWait(driver, 100)\n",
    "        except:\n",
    "            break\n",
    "    page_source = driver.page_source\n",
    "\n",
    "soup = BeautifulSoup(page_source, 'html5lib')\n",
    "all_articles = soup.find_all('article')\n",
    "links = []\n",
    "for a in all_articles:\n",
    "    links.append(a.find('a')['href'])\n",
    "print(\"Got all the Articles\")\n",
    "\n",
    "scores = []\n",
    "#analyzer = SentimentIntensityAnalyzer()\n",
    "hiv4 = ps.HIV4()\n",
    "\n",
    "print('Scraping...')\n",
    "print('\\r[' + '>' + '-'*19 + ']', end=' ', flush=True)\n",
    "\n",
    "for i, link in enumerate(links):   \n",
    "    article = requests.get(link)\n",
    "    article_content = article.content\n",
    "    soup_article = BeautifulSoup(article_content, 'html5lib')\n",
    "    paragraphs = soup_article.find_all('p')[3:-6]\n",
    "    body = ''\n",
    "    for j in range(len(paragraphs)):\n",
    "        body += ' ' + paragraphs[j].get_text()\n",
    "\n",
    "    body = body.replace('\\xa0', ' ')\n",
    "    #if 'Covid' in body or 'Coronavirus' in body:\n",
    "    #scores.append(analyzer.polarity_scores(body))\n",
    "    tokens = hiv4.tokenize(body)\n",
    "    scores.append(hiv4.get_score(tokens))\n",
    "    temp = int(i // (len(links)/20))\n",
    "    if temp == 0: temp = 1\n",
    "    print('\\r[' + '='*(temp-1) + '>' + '-'*(20-temp) + ']', end=' ', flush=True)\n",
    "print('\\r[' + '='*(19) + '>' + ']', end=' ', flush=True)\n",
    "print(\"Analyzed the articles\")"
   ]
  },
  {
   "cell_type": "code",
   "execution_count": 237,
   "id": "55c824e8-1cdc-486b-b534-d4118455c524",
   "metadata": {},
   "outputs": [
    {
     "data": {
      "text/plain": [
       "37"
      ]
     },
     "execution_count": 237,
     "metadata": {},
     "output_type": "execute_result"
    }
   ],
   "source": [
    "#642 articles\n",
    "\n",
    "len(scores)\n",
    "#Compund 10.833333333333334"
   ]
  },
  {
   "cell_type": "code",
   "execution_count": 238,
   "id": "3ccdca45-aa3a-47c3-93a3-87c9366592c4",
   "metadata": {},
   "outputs": [
    {
     "data": {
      "text/plain": [
       "0.15725378004509794"
      ]
     },
     "execution_count": 238,
     "metadata": {},
     "output_type": "execute_result"
    }
   ],
   "source": [
    "av2 = 0\n",
    "for score in scores:\n",
    "    av2 += score['Polarity']\n",
    "av2 /= len(scores)\n",
    "av2"
   ]
  },
  {
   "cell_type": "code",
   "execution_count": null,
   "id": "6bdcdce4-3514-4f54-9071-857f2791b11b",
   "metadata": {},
   "outputs": [],
   "source": []
  },
  {
   "cell_type": "code",
   "execution_count": null,
   "id": "e59b2163-a9f5-4a0c-a414-3c4978610cf9",
   "metadata": {},
   "outputs": [],
   "source": []
  },
  {
   "cell_type": "markdown",
   "id": "d01c1e4a-50e4-4583-853e-71bc68660fcb",
   "metadata": {},
   "source": [
    "# CNN"
   ]
  },
  {
   "cell_type": "code",
   "execution_count": null,
   "id": "5c5e2da3-d6b8-47a1-a9e8-e70faaf053bd",
   "metadata": {},
   "outputs": [],
   "source": [
    "#XPath to date-range\n",
    "url = 'https://www.cnn.com/search?q=Trump&sort=relevance&type=article&size=30&page=1'\n",
    "with closing(Firefox()) as driver:\n",
    "    driver.get(url)\n",
    "    \n",
    "    #choose the article content type\n",
    "    content = driver.find_element_by_xpath(\"//div[@class='filter content']/button\")\n",
    "    content.click()\n",
    "    content_article = driver.find_element_by_xpath(\"//input[@value='Article']\")\n",
    "    content_article.click()\n",
    "    \n",
    "    #we have to manually choose the date range for our search\n",
    "    min_month = driver.find_element_by_xpath(\"//div[@class='date min']/div[@class='sub month']\")\n",
    "    min_month.click()\n",
    "    min_month_choice = driver.find_element_by_xpath(\"//div[@class='date min']/div[@class='sub month']/ul[@class='option']/li[@class='04']\")\n",
    "    min_month_choice.click()\n",
    "    \n",
    "    min_day = driver.find_element_by_xpath(\"//div[@class='date min']/div[@class='sub day']\")\n",
    "    min_day.click()\n",
    "    min_day_choice = driver.find_element_by_xpath(\"//div[@class='date min']/div[@class='sub day']/ul[@class='option']/li[@class='22']\")\n",
    "    min_day_choice.click()\n",
    "    \n",
    "    min_year = driver.find_element_by_xpath(\"//div[@class='date min']/div[@class='sub year']\")\n",
    "    min_year.click()\n",
    "    min_year_choice = driver.find_element_by_xpath(\"//div[@class='date min']/div[@class='sub year']/ul[@class='option']/li[@id='2020']\")\n",
    "    min_year_choice.click()\n",
    "    \n",
    "    \n",
    "    max_month = driver.find_element_by_xpath(\"//div[@class='date max']/div[@class='sub month']\")\n",
    "    max_month.click()\n",
    "    max_month_choice = driver.find_element_by_xpath(\"//div[@class='date max']/div[@class='sub month']/ul[@class='option']/li[@class='05']\")\n",
    "    max_month_choice.click()\n",
    "    \n",
    "    max_day = driver.find_element_by_xpath(\"//div[@class='date max']/div[@class='sub day']\")\n",
    "    max_day.click()\n",
    "    max_day_choice = driver.find_element_by_xpath(\"//div[@class='date max']/div[@class='sub day']/ul[@class='option']/li[@class='20']\")\n",
    "    max_day_choice.click()\n",
    "    \n",
    "    max_year = driver.find_element_by_xpath(\"//div[@class='date max']/div[@class='sub year']\")\n",
    "    max_year.click()\n",
    "    max_year_choice = driver.find_element_by_xpath(\"//div[@class='date max']/div[@class='sub year']/ul[@class='option']/li[@id='2020']\")\n",
    "    max_year_choice.click()\n",
    "    \n",
    "    search_button = driver.find_element_by_xpath(\"//a[text()='Search']\")#\"//div[@class='search-form']/div[@class='button']\")#\n",
    "    search_button.click()\n",
    "    search_button.click()\n",
    "    WebDriverWait(driver, 10000)\n",
    "    \n",
    "    #now hit the load more button as much as possible\n",
    "    while True:\n",
    "        try:\n",
    "            button = driver.find_element_by_class_name('load-more')\n",
    "            button.click()\n",
    "            WebDriverWait(driver, 100)\n",
    "        except:\n",
    "            break\n",
    "    page_source = driver.page_source\n",
    "\n",
    "soup = BeautifulSoup(page_source, 'html5lib')\n",
    "all_articles = soup.find_all('article')\n",
    "links = []\n",
    "for a in all_articles:\n",
    "    links.append(a.find('a')['href'])\n",
    "print(\"Got all the Articles\")\n",
    "\n",
    "scores = []\n",
    "#analyzer = SentimentIntensityAnalyzer()\n",
    "hiv4 = ps.HIV4()\n",
    "\n",
    "print('Scraping...')\n",
    "print('\\r[' + '>' + '-'*19 + ']', end=' ', flush=True)\n",
    "\n",
    "for i, link in enumerate(links):   \n",
    "    article = requests.get(link)\n",
    "    article_content = article.content\n",
    "    soup_article = BeautifulSoup(article_content, 'html5lib')\n",
    "    paragraphs = soup_article.find_all('p')[3:-6]\n",
    "    body = ''\n",
    "    for j in range(len(paragraphs)):\n",
    "        body += ' ' + paragraphs[j].get_text()\n",
    "\n",
    "    body = body.replace('\\xa0', ' ')\n",
    "    #if 'Covid' in body or 'Coronavirus' in body:\n",
    "    #scores.append(analyzer.polarity_scores(body))\n",
    "    tokens = hiv4.tokenize(body)\n",
    "    scores.append(hiv4.get_score(tokens))\n",
    "    temp = int(i // (len(links)/20))\n",
    "    if temp == 0: temp = 1\n",
    "    print('\\r[' + '='*(temp-1) + '>' + '-'*(20-temp) + ']', end=' ', flush=True)\n",
    "print('\\r[' + '='*(19) + '>' + ']', end=' ', flush=True)\n",
    "print(\"Analyzed the articles\")"
   ]
  },
  {
   "cell_type": "code",
   "execution_count": 8,
   "id": "d6c147a9-e629-400a-9daa-6f64b60fd91c",
   "metadata": {
    "scrolled": true,
    "tags": []
   },
   "outputs": [
    {
     "name": "stdout",
     "output_type": "stream",
     "text": [
      "Trump: Europe is terrific place for investment\n",
      "Trump: Europe is terrific place for investment\n",
      "Ghostwriter: 'The inner Trump is the outer Trump'\n",
      "Ghostwriter: 'The inner Trump is the outer Trump'\n",
      "Ghostwriter: 'The inner Trump is the outer Trump'\n",
      "Ghostwriter: 'The inner Trump is the outer Trump'\n",
      "Ghostwriter: 'The inner Trump is the outer Trump'\n",
      "Ghostwriter: 'The inner Trump is the outer Trump'\n",
      "Paul Ryan endorses Donald Trump\n",
      "Paul Ryan endorses Donald Trump\n",
      "Paul Ryan endorses Donald Trump\n",
      "Trump brand too hot to handle\n",
      "Trump brand too hot to handle\n",
      "Trump brand too hot to handle\n",
      "Trump brand too hot to handle\n",
      "Donald Trump: 'Radical Muslims' a problem\n",
      "Donald Trump: 'Radical Muslims' a problem\n",
      "Donald Trump: 'Radical Muslims' a problem\n",
      "Donald Trump: 'Radical Muslims' a problem\n",
      "Donald Trump thinks you're stupid\n",
      "Donald Trump thinks you're stupid\n",
      "Donald Trump thinks you're stupid\n",
      "Donald Trump thinks you're stupid\n",
      "Trump is impeaching himself\n",
      "Trump is impeaching himself\n",
      "Trump is impeaching himself\n",
      "Trump is impeaching himself\n",
      "Trump is impeaching himself\n",
      "Trump is impeaching himself\n",
      "Defamation case against Trump to move forward\n",
      "Voters to Trump: Never Tweet\n",
      "Voters to Trump: Never Tweet\n",
      "Voters to Trump: Never Tweet\n",
      "Voters to Trump: Never Tweet\n",
      "Voters to Trump: Never Tweet\n",
      "Voters to Trump: Never Tweet\n",
      "Trump University case reveals uncomfortable truths\n",
      "Trump University case reveals uncomfortable truths\n",
      "Trump University case reveals uncomfortable truths\n",
      "What Donald Trump taught us about ourselves\n",
      "What Donald Trump taught us about ourselves\n",
      "What Donald Trump taught us about ourselves\n",
      "What Donald Trump taught us about ourselves\n",
      "What Donald Trump taught us about ourselves\n",
      "What Donald Trump taught us about ourselves\n",
      "What Donald Trump taught us about ourselves\n",
      "Trump, Clinton turn to their daughters\n",
      "Can President Trump pardon himself?\n",
      "Can President Trump pardon himself?\n",
      "Can President Trump pardon himself?\n",
      "Can President Trump pardon himself?\n",
      "Donald Trump sues niece Mary Trump, New York Times reporters over disclosure of tax documents\n",
      "RNC chairman's troubles with Trump\n",
      "RNC chairman's troubles with Trump\n",
      "RNC chairman's troubles with Trump\n",
      "RNC chairman's troubles with Trump\n",
      "RNC chairman's troubles with Trump\n",
      "RNC chairman's troubles with Trump\n",
      "Top takeaways from the Trump-Putin Helsinki summit\n",
      "Trump to CNN: 'I love the Muslims'\n",
      "Trump to CNN: 'I love the Muslims'\n",
      "Trump to CNN: 'I love the Muslims'\n",
      "Trump to CNN: 'I love the Muslims'\n",
      "Trump to CNN: 'I love the Muslims'\n",
      "Trump urges supporters to vote in GOP Congress\n",
      "Trump urges supporters to vote in GOP Congress\n",
      "Trump urges supporters to vote in GOP Congress\n",
      "Trump promises 'big surprise' on health care\n",
      "Trump promises 'big surprise' on health care\n",
      "For Trump, a selective focus on human rights\n",
      "For Trump, a selective focus on human rights\n",
      "Donald Trump breaks another (bad) record\n",
      "Donald Trump breaks another (bad) record\n",
      "Trump thanks evangelicals for their support\n",
      "Trump thanks evangelicals for their support\n",
      "Trump wants to visit Texas 'ASAP,' official says\n",
      "Trump wants to visit Texas 'ASAP,' official says\n",
      "Trump says he would beat Oprah in 2020\n",
      "Trump says he would beat Oprah in 2020\n",
      "Alec needles Trump again, this time in Russian\n",
      "Alec needles Trump again, this time in Russian\n",
      "Alec needles Trump again, this time in Russian\n",
      "Donald Trump reveals his economic advisers\n",
      "Donald Trump reveals his economic advisers\n",
      "Pope-Trump meeting agenda: Climate change, terrorism\n",
      "Pope-Trump meeting agenda: Climate change, terrorism\n",
      "Pope-Trump meeting agenda: Climate change, terrorism\n",
      "Vicente Fox blasts Trump after 'animals' comment\n",
      "Vicente Fox blasts Trump after 'animals' comment\n",
      "Vicente Fox blasts Trump after 'animals' comment\n",
      "Albright: Trump would flunk my foreign policy class\n",
      "Albright: Trump would flunk my foreign policy class\n",
      "Albright: Trump would flunk my foreign policy class\n",
      "Kamala Harris: 'Yes,' President Trump is racist\n",
      "Kamala Harris: 'Yes,' President Trump is racist\n",
      "Debate prep reveals clash of styles for Clinton, Trump\n",
      "Why Trump is the next Walter White\n",
      "Why Trump is the next Walter White\n",
      "Why Trump is the next Walter White\n",
      "Why Trump is the next Walter White\n",
      "Actually, Trump has a point\n",
      "Actually, Trump has a point\n",
      "Actually, Trump has a point\n",
      "Stephen Moore is a Trump mini-me\n",
      "Stephen Moore is a Trump mini-me\n",
      "Stephen Colbert: Trump campaign is 'appealing'\n",
      "Stephen Colbert: Trump campaign is 'appealing'\n",
      "Stephen Colbert: Trump campaign is 'appealing'\n",
      "Stephen Colbert: Trump campaign is 'appealing'\n",
      "Stephen Colbert: Trump campaign is 'appealing'\n",
      "Trump White House to look into China's trade practices\n",
      "Trump White House to look into China's trade practices\n",
      "Trump White House to look into China's trade practices\n",
      "President Trump makes first briefing room appearance\n",
      "Serene Canadian island courts 'Trump refugees'\n",
      "Serene Canadian island courts 'Trump refugees'\n",
      "Serene Canadian island courts 'Trump refugees'\n",
      "Serene Canadian island courts 'Trump refugees'\n",
      "With manufacturing slowing down, Trump ratchets up trade wars\n",
      "With manufacturing slowing down, Trump ratchets up trade wars\n",
      "With manufacturing slowing down, Trump ratchets up trade wars\n",
      "A question for the courts: did Trump incite violence?\n",
      "A question for the courts: did Trump incite violence?\n",
      "One week, three more Trump-Russia connections\n",
      "One week, three more Trump-Russia connections\n",
      "Comey doesn't prove Trump did anything wrong\n",
      "Comey doesn't prove Trump did anything wrong\n",
      "Donald Trump is no Abraham Lincoln, despite poll\n",
      "Donald Trump is no Abraham Lincoln, despite poll\n",
      "Donald Trump is no Abraham Lincoln, despite poll\n",
      "Why Trump can't resist running in 2024\n",
      "Why Trump can't resist running in 2024\n",
      "Don't let 'Never Trump' become 'Ready for Hillary'\n",
      "Don't let 'Never Trump' become 'Ready for Hillary'\n",
      "Don't let 'Never Trump' become 'Ready for Hillary'\n",
      "Climate remains a rift amid Trump-Macron friendship\n",
      "Climate remains a rift amid Trump-Macron friendship\n",
      "Climate remains a rift amid Trump-Macron friendship\n",
      "Paul Ryan says Trump will lead 'unified Republican government'\n",
      "Paul Ryan says Trump will lead 'unified Republican government'\n"
     ]
    }
   ],
   "source": [
    "url = 'https://www.cnn.com/search?q=Trump&sort=date&type=article&size=30&from=0&page=1'\n",
    "# start_date = pd.to_datetime('03/18/2020')\n",
    "# end_date = pd.to_datetime('04/22/2020')\n",
    "start_date = pd.to_datetime('04/22/2020')\n",
    "end_date = pd.to_datetime('5/20/20')\n",
    "\n",
    "body = []\n",
    "with closing(Firefox()) as driver:\n",
    "    driver.get(url)\n",
    "    \n",
    "    can_continue = True\n",
    "    current_page = 1\n",
    "    while can_continue:\n",
    "        #choose the article content type\n",
    "\n",
    "        \n",
    "        for i in range(1, 31):\n",
    "            try:\n",
    "                content = driver.find_element_by_xpath(f\"//div[@class='cnn-search__results-list']/div[{i}]\")\n",
    "                date = pd.to_datetime(content.text.split('\\n')[1])\n",
    "                if i == 1:\n",
    "                    print(content.text.split('\\n')[0])\n",
    "                if start_date < date < end_date:\n",
    "                    body.append(content.text)\n",
    "            except:\n",
    "                WebDriverWait(driver, 1000)\n",
    "                continue\n",
    "            \n",
    "        \n",
    "        try:\n",
    "            next_arrow = driver.find_element_by_xpath(\"//div[@class='pagination-arrow pagination-arrow-right cnnSearchPageLink text-active']\")\n",
    "            next_arrow.click()\n",
    "#             current_page += 1\n",
    "#             url = f'https://www.cnn.com/search?q=Trump&sort=relevance&type=article&size=30&from={30*(current_page-1)}&page={current_page}'\n",
    "#             driver.get(url)\n",
    "            WebDriverWait(driver, 1500)\n",
    "        except:\n",
    "            break\n"
   ]
  },
  {
   "cell_type": "code",
   "execution_count": 10,
   "id": "351bb352-0489-42c6-8bc7-5bf859b517ce",
   "metadata": {},
   "outputs": [
    {
     "data": {
      "text/plain": [
       "35"
      ]
     },
     "execution_count": 10,
     "metadata": {},
     "output_type": "execute_result"
    }
   ],
   "source": [
    "len(body)"
   ]
  },
  {
   "cell_type": "code",
   "execution_count": 15,
   "id": "c69d18f3-e9e8-4870-baab-8b57db939bb4",
   "metadata": {},
   "outputs": [
    {
     "name": "stdout",
     "output_type": "stream",
     "text": [
      "May 13, 2020\n",
      "May 13, 2020\n",
      "May 13, 2020\n",
      "May 13, 2020\n",
      "May 13, 2020\n",
      "May 13, 2020\n",
      "Apr 25, 2020\n",
      "Apr 25, 2020\n",
      "May 4, 2020\n",
      "May 4, 2020\n",
      "May 4, 2020\n",
      "May 4, 2020\n",
      "May 4, 2020\n",
      "May 4, 2020\n",
      "Apr 27, 2020\n",
      "Apr 27, 2020\n",
      "Apr 27, 2020\n",
      "May 18, 2020\n",
      "May 18, 2020\n",
      "May 18, 2020\n",
      "May 18, 2020\n",
      "May 9, 2020\n",
      "May 9, 2020\n",
      "May 9, 2020\n",
      "May 18, 2020\n",
      "May 18, 2020\n",
      "May 18, 2020\n",
      "May 18, 2020\n",
      "May 2, 2020\n",
      "May 2, 2020\n",
      "May 12, 2020\n",
      "May 12, 2020\n",
      "May 12, 2020\n",
      "May 18, 2020\n",
      "May 18, 2020\n"
     ]
    }
   ],
   "source": [
    "for b in body:\n",
    "    print(b.split('\\n')[1])\n",
    "    "
   ]
  },
  {
   "cell_type": "code",
   "execution_count": null,
   "id": "06f30c53-9870-43eb-bb6f-36719f6683e3",
   "metadata": {},
   "outputs": [],
   "source": []
  }
 ],
 "metadata": {
  "kernelspec": {
   "display_name": "Python 3",
   "language": "python",
   "name": "python3"
  },
  "language_info": {
   "codemirror_mode": {
    "name": "ipython",
    "version": 3
   },
   "file_extension": ".py",
   "mimetype": "text/x-python",
   "name": "python",
   "nbconvert_exporter": "python",
   "pygments_lexer": "ipython3",
   "version": "3.8.10"
  }
 },
 "nbformat": 4,
 "nbformat_minor": 5
}
